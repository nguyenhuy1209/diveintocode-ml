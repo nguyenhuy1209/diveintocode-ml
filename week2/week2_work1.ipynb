{
  "nbformat": 4,
  "nbformat_minor": 0,
  "metadata": {
    "colab": {
      "name": "week2-work1.ipynb",
      "provenance": [],
      "collapsed_sections": []
    },
    "kernelspec": {
      "name": "python3",
      "display_name": "Python 3"
    }
  },
  "cells": [
    {
      "cell_type": "code",
      "metadata": {
        "colab": {
          "base_uri": "https://localhost:8080/"
        },
        "id": "bo5J4i6LPwan",
        "outputId": "2498d5ff-9c0b-4edc-a7b2-e9c5ab5bdae9"
      },
      "source": [
        "\"\"\"\r\n",
        "Problem 1\r\n",
        "Number of wheat on a 2 x 2 square chess board\r\n",
        "\"\"\"\r\n",
        "\r\n",
        "import numpy as np\r\n",
        "\r\n",
        "chessboard = [1]\r\n",
        "\r\n",
        "for i in range(1,2*2):\r\n",
        "  chessboard.append(2*chessboard[-1])\r\n",
        "\r\n",
        "chessboard = np.array(chessboard).reshape(2,2)\r\n",
        "  \r\n",
        "print(chessboard)"
      ],
      "execution_count": 76,
      "outputs": [
        {
          "output_type": "stream",
          "text": [
            "[[1 2]\n",
            " [4 8]]\n"
          ],
          "name": "stdout"
        }
      ]
    },
    {
      "cell_type": "code",
      "metadata": {
        "colab": {
          "base_uri": "https://localhost:8080/"
        },
        "id": "1NbYs5qqSZTQ",
        "outputId": "b8b8783b-10ef-4468-c3b9-91db536e8d3b"
      },
      "source": [
        "\"\"\"\r\n",
        "Problem 2\r\n",
        "Expansion to n × m mass\r\n",
        "\"\"\"\r\n",
        "\r\n",
        "def chessboard_generator(n, m):\r\n",
        "  chessboard = [1]\r\n",
        "\r\n",
        "  for i in range(1,n*m):\r\n",
        "    chessboard.append(2*chessboard[-1])\r\n",
        "  \r\n",
        "  chessboard = np.array(chessboard).reshape(8,8)\r\n",
        "  return chessboard\r\n",
        "\r\n",
        "eight_by_eight_board = chessboard_generator(8,8)\r\n",
        "print('Number of wheat on the 8x8 square chess board:')\r\n",
        "print(eight_by_eight_board)"
      ],
      "execution_count": 77,
      "outputs": [
        {
          "output_type": "stream",
          "text": [
            "Number of wheat on the 8x8 square chess board:\n",
            "[[1.00000000e+00 2.00000000e+00 4.00000000e+00 8.00000000e+00\n",
            "  1.60000000e+01 3.20000000e+01 6.40000000e+01 1.28000000e+02]\n",
            " [2.56000000e+02 5.12000000e+02 1.02400000e+03 2.04800000e+03\n",
            "  4.09600000e+03 8.19200000e+03 1.63840000e+04 3.27680000e+04]\n",
            " [6.55360000e+04 1.31072000e+05 2.62144000e+05 5.24288000e+05\n",
            "  1.04857600e+06 2.09715200e+06 4.19430400e+06 8.38860800e+06]\n",
            " [1.67772160e+07 3.35544320e+07 6.71088640e+07 1.34217728e+08\n",
            "  2.68435456e+08 5.36870912e+08 1.07374182e+09 2.14748365e+09]\n",
            " [4.29496730e+09 8.58993459e+09 1.71798692e+10 3.43597384e+10\n",
            "  6.87194767e+10 1.37438953e+11 2.74877907e+11 5.49755814e+11]\n",
            " [1.09951163e+12 2.19902326e+12 4.39804651e+12 8.79609302e+12\n",
            "  1.75921860e+13 3.51843721e+13 7.03687442e+13 1.40737488e+14]\n",
            " [2.81474977e+14 5.62949953e+14 1.12589991e+15 2.25179981e+15\n",
            "  4.50359963e+15 9.00719925e+15 1.80143985e+16 3.60287970e+16]\n",
            " [7.20575940e+16 1.44115188e+17 2.88230376e+17 5.76460752e+17\n",
            "  1.15292150e+18 2.30584301e+18 4.61168602e+18 9.22337204e+18]]\n"
          ],
          "name": "stdout"
        }
      ]
    },
    {
      "cell_type": "code",
      "metadata": {
        "colab": {
          "base_uri": "https://localhost:8080/",
          "height": 312
        },
        "id": "NWWkd9IhT-5h",
        "outputId": "414ed923-6714-429d-83f0-7fd416025878"
      },
      "source": [
        "\"\"\"\r\n",
        "Problem 3\r\n",
        "Total number of wheat\r\n",
        "\"\"\"\r\n",
        "\r\n",
        "sum = np.sum(eight_by_eight_board)\r\n",
        "print(f'Total number of wheat on a chess board of 8 x 8 squares: {sum}')\r\n",
        "\r\n",
        "average = eight_by_eight_board.mean(axis=0) # axis = 0 means we are taking the mean of columns\r\n",
        "\r\n",
        "import matplotlib.pyplot as plt\r\n",
        "%matplotlib inline\r\n",
        "plt.xlabel(\"column\")\r\n",
        "plt.ylabel(\"average of wheat\")\r\n",
        "plt.title(\"average of wheat in each column\")\r\n",
        "plt.bar(np.arange(1,9), average)\r\n",
        "plt.show()"
      ],
      "execution_count": 78,
      "outputs": [
        {
          "output_type": "stream",
          "text": [
            "Total number of wheat on a chess board of 8 x 8 squares: 1.8446744073709552e+19\n"
          ],
          "name": "stdout"
        },
        {
          "output_type": "display_data",
          "data": {
            "image/png": "[encoded data removed]",
            "text/plain": [
              "<Figure size 432x288 with 1 Axes>"
            ]
          },
          "metadata": {
            "tags": [],
            "needs_background": "light"
          }
        }
      ]
    },
    {
      "cell_type": "code",
      "metadata": {
        "colab": {
          "base_uri": "https://localhost:8080/",
          "height": 295
        },
        "id": "UYUpVI7Lscor",
        "outputId": "9c8e1d7c-8b87-4df8-fb63-30cb068c3db3"
      },
      "source": [
        "\"\"\"\r\n",
        "Problem 4\r\n",
        "Heat map of the number of wheat\r\n",
        "\"\"\"\r\n",
        "\r\n",
        "plt.xlabel(\"column\")\r\n",
        "plt.ylabel(\"row\")\r\n",
        "plt.title(\"heatmap\")\r\n",
        "plt.pcolor(eight_by_eight_board)\r\n",
        "plt.show()"
      ],
      "execution_count": 79,
      "outputs": [
        {
          "output_type": "display_data",
          "data": {
            "image/png": "[encoded data removed]",
            "text/plain": [
              "<Figure size 432x288 with 1 Axes>"
            ]
          },
          "metadata": {
            "tags": [],
            "needs_background": "light"
          }
        }
      ]
    },
    {
      "cell_type": "code",
      "metadata": {
        "colab": {
          "base_uri": "https://localhost:8080/"
        },
        "id": "qKvAB1DpssMk",
        "outputId": "4f92a66c-337d-42ec-d4ae-7aabe04f72ce"
      },
      "source": [
        "\"\"\"\r\n",
        "Problem 5\r\n",
        "How many times is the second half as long as the first half?\r\n",
        "\"\"\"\r\n",
        "\r\n",
        "first_half = np.sum(eight_by_eight_board[0:4, :])\r\n",
        "second_half = np.sum(eight_by_eight_board[5:8, :])\r\n",
        "\r\n",
        "print(f'First half: {first_half}')\r\n",
        "print(f'Second half: {second_half}')\r\n",
        "print(f'Second half is {second_half/first_half} times greater than first half')"
      ],
      "execution_count": 83,
      "outputs": [
        {
          "output_type": "stream",
          "text": [
            "First half: 4294967295.0\n",
            "Second half: 1.8446742974197924e+19\n",
            "Second half is 4294967041.0 times greater than first half\n"
          ],
          "name": "stdout"
        }
      ]
    },
    {
      "cell_type": "code",
      "metadata": {
        "colab": {
          "base_uri": "https://localhost:8080/"
        },
        "id": "EzD_hLe82Xha",
        "outputId": "2c82b293-a982-4dd9-a5b4-02afd13ea703"
      },
      "source": [
        "\"\"\"\r\n",
        "Problem 6\r\n",
        "Expansion to n × m mass by another calculation method\r\n",
        "\"\"\"\r\n",
        "\r\n",
        "def chessboard_generator_using_append(n,m):\r\n",
        "  chessboard = np.array([np.uint64(1)])\r\n",
        "\r\n",
        "  for i in range(1, n*m):\r\n",
        "    chessboard = np.append(chessboard, 2*chessboard[-1])\r\n",
        "  \r\n",
        "  chessboard = np.array(chessboard).reshape(8,8)\r\n",
        "  return chessboard\r\n",
        "\r\n",
        "eight_by_eight_board = chessboard_generator_using_append(8,8)\r\n",
        "print('Number of wheat on the 8x8 square chess board:')\r\n",
        "print(eight_by_eight_board)"
      ],
      "execution_count": 84,
      "outputs": [
        {
          "output_type": "stream",
          "text": [
            "Number of wheat on the 8x8 square chess board:\n",
            "[[1.00000000e+00 2.00000000e+00 4.00000000e+00 8.00000000e+00\n",
            "  1.60000000e+01 3.20000000e+01 6.40000000e+01 1.28000000e+02]\n",
            " [2.56000000e+02 5.12000000e+02 1.02400000e+03 2.04800000e+03\n",
            "  4.09600000e+03 8.19200000e+03 1.63840000e+04 3.27680000e+04]\n",
            " [6.55360000e+04 1.31072000e+05 2.62144000e+05 5.24288000e+05\n",
            "  1.04857600e+06 2.09715200e+06 4.19430400e+06 8.38860800e+06]\n",
            " [1.67772160e+07 3.35544320e+07 6.71088640e+07 1.34217728e+08\n",
            "  2.68435456e+08 5.36870912e+08 1.07374182e+09 2.14748365e+09]\n",
            " [4.29496730e+09 8.58993459e+09 1.71798692e+10 3.43597384e+10\n",
            "  6.87194767e+10 1.37438953e+11 2.74877907e+11 5.49755814e+11]\n",
            " [1.09951163e+12 2.19902326e+12 4.39804651e+12 8.79609302e+12\n",
            "  1.75921860e+13 3.51843721e+13 7.03687442e+13 1.40737488e+14]\n",
            " [2.81474977e+14 5.62949953e+14 1.12589991e+15 2.25179981e+15\n",
            "  4.50359963e+15 9.00719925e+15 1.80143985e+16 3.60287970e+16]\n",
            " [7.20575940e+16 1.44115188e+17 2.88230376e+17 5.76460752e+17\n",
            "  1.15292150e+18 2.30584301e+18 4.61168602e+18 9.22337204e+18]]\n"
          ],
          "name": "stdout"
        }
      ]
    },
    {
      "cell_type": "code",
      "metadata": {
        "id": "FPunYN-f3dex"
      },
      "source": [
        "\"\"\"\r\n",
        "Problem 7\r\n",
        "Comparing calculation times\r\n",
        "\"\"\"\r\n",
        "\r\n",
        "def chessboard_generator_using_broadcast(n,m):\r\n",
        "  n_squares = n*m\r\n",
        "  indices_of_squares = np.arange(n_squares)\r\n",
        "  chessboard = 2**np.uint64(indices_of_squares)\r\n",
        "\r\n",
        "  chessboard = np.array(chessboard).reshape(8,8)\r\n",
        "  return chessboard"
      ],
      "execution_count": 85,
      "outputs": []
    },
    {
      "cell_type": "code",
      "metadata": {
        "colab": {
          "base_uri": "https://localhost:8080/"
        },
        "id": "KaBpEtdj9Mav",
        "outputId": "01e90eee-8873-4963-e799-197dbd15b4b5"
      },
      "source": [
        "# Measure \"from list to numpy array\"\r\n",
        "%%timeit\r\n",
        "chessboard_list = chessboard_generator(8,8)"
      ],
      "execution_count": 86,
      "outputs": [
        {
          "output_type": "stream",
          "text": [
            "100000 loops, best of 5: 16.5 µs per loop\n"
          ],
          "name": "stdout"
        }
      ]
    },
    {
      "cell_type": "code",
      "metadata": {
        "colab": {
          "base_uri": "https://localhost:8080/"
        },
        "id": "uF3iCLoe9DcB",
        "outputId": "93c337f5-dff9-4ac3-ae30-7fa10d791788"
      },
      "source": [
        "# Measure numpy using array append\r\n",
        "%%timeit\r\n",
        "chessboard_append = chessboard_generator_using_append(8,8)"
      ],
      "execution_count": 87,
      "outputs": [
        {
          "output_type": "stream",
          "text": [
            "1000 loops, best of 5: 431 µs per loop\n"
          ],
          "name": "stdout"
        }
      ]
    },
    {
      "cell_type": "code",
      "metadata": {
        "colab": {
          "base_uri": "https://localhost:8080/"
        },
        "id": "yZHESCQO9Dwo",
        "outputId": "248381e7-bc4c-4c28-f26b-1f4c85deb575"
      },
      "source": [
        "# Measure numpy using broadcast\r\n",
        "%%timeit\r\n",
        "chessboard_broadcast = chessboard_generator_using_broadcast(8,8)"
      ],
      "execution_count": 88,
      "outputs": [
        {
          "output_type": "stream",
          "text": [
            "The slowest run took 210.13 times longer than the fastest. This could mean that an intermediate result is being cached.\n",
            "100000 loops, best of 5: 4.63 µs per loop\n"
          ],
          "name": "stdout"
        }
      ]
    }
  ]
}