{
  "nbformat": 4,
  "nbformat_minor": 0,
  "metadata": {
    "colab": {
      "name": "week2_work3.ipynb",
      "provenance": []
    },
    "kernelspec": {
      "name": "python3",
      "display_name": "Python 3"
    }
  },
  "cells": [
    {
      "cell_type": "code",
      "metadata": {
        "id": "2TbKiYnm5Err"
      },
      "source": [
        "\"\"\"\r\n",
        "Problem 1\r\n",
        "Matrix product is calculated manually\r\n",
        "\"\"\""
      ],
      "execution_count": null,
      "outputs": []
    },
    {
      "cell_type": "markdown",
      "metadata": {
        "id": "jVEhK2mp5akU"
      },
      "source": [
        "<div style=\"text-align: right\">\r\n",
        "\r\n",
        "$ A = \\begin{bmatrix} -1 & 2 & 3 \\\\ 4 & -5 & 6 \\\\ 7 & 8 & -9 \\end{bmatrix} $ <br>\r\n",
        "$ B = \\begin{bmatrix} 0 & 2 & 1 \\\\ 0 & 2 & -8 \\\\ 2 & 9 & -1 \\end{bmatrix} $\r\n",
        "<br>\r\n",
        "$ C = \\begin{bmatrix} c_{11} & c_{12} & c_{13} \\\\ c_{21} & c_{22} & c_{23} \\\\ c_{31} & c_{32} & c_{33} \\end{bmatrix} $\r\n",
        "\r\n",
        "<br>\r\n",
        "$ c_{11} = (-1) \\times 0 + 2 \\times 0 + 3 \\times 2 = 6 $ <br>\r\n",
        "$ c_{21} = 4 \\times 0 + (-5) \\times 0 + 6 \\times 2 = 12 $ <br>\r\n",
        "$ c_{31} = 7 \\times 0 + 8 \\times 0 + (-9) \\times 2 = -18 $ <br>\r\n",
        "\r\n",
        "$ c_{12} = (-1) \\times 2 + 2 \\times 2 + 3 \\times 9 = 29 $ <br>\r\n",
        "$ c_{22} = 4 \\times 2 + (-5) \\times 2 + 6 \\times 9 = 52 $ <br>\r\n",
        "$ c_{32} = 7 \\times 2 + 8 \\times 2 + (-9) \\times 9 = -51 $ <br>\r\n",
        "\r\n",
        "$ c_{13} = (-1) \\times 1 + 2 \\times (-8) + 3 \\times (-1) = -20 $ <br>\r\n",
        "$ c_{23} = 4 \\times 1 + (-5) \\times (-8) + 6 \\times (-1) = 38 $ <br>\r\n",
        "$ c_{33} = 7 \\times 1 + 8 \\times (-8) + -9 \\times (-1) = -48 $ <br>\r\n",
        "<br><br>\r\n",
        "\r\n",
        "$ C = \\begin{bmatrix} 6 & 29 & -20 \\\\ 12 & 52 & 38 \\\\ -18 &-51 & -48 \\end{bmatrix} $\r\n",
        "\r\n",
        "</div>"
      ]
    },
    {
      "cell_type": "code",
      "metadata": {
        "colab": {
          "base_uri": "https://localhost:8080/"
        },
        "id": "So-wOpbV8cES",
        "outputId": "96c26d25-2dfe-4361-b78c-6436c23514f6"
      },
      "source": [
        "\"\"\"\r\n",
        "Problem 2\r\n",
        "Calculation by NumPy function\r\n",
        "\"\"\"\r\n",
        "\r\n",
        "import numpy as np\r\n",
        "\r\n",
        "a_ndarray = np.array([[-1, 2, 3], [4, -5, 6], [7, 8, -9]])\r\n",
        "b_ndarray = np.array([[0, 2, 1], [0, 2, -8], [2, 9, -1]])\r\n",
        "\r\n",
        "c_ndarray = a_ndarray @ b_ndarray\r\n",
        "\r\n",
        "print('Dot product of A and B:')\r\n",
        "print(c_ndarray)"
      ],
      "execution_count": 22,
      "outputs": [
        {
          "output_type": "stream",
          "text": [
            "Dot product of A and B:\n",
            "[[  6  29 -20]\n",
            " [ 12  52  38]\n",
            " [-18 -51 -48]]\n"
          ],
          "name": "stdout"
        }
      ]
    },
    {
      "cell_type": "code",
      "metadata": {
        "colab": {
          "base_uri": "https://localhost:8080/"
        },
        "id": "-kkiV5Yc_F5D",
        "outputId": "7cfe9b0e-6039-455f-b883-75f7e32c8064"
      },
      "source": [
        "\"\"\"\r\n",
        "Problem 3\r\n",
        "Implementation of calculation of a certain element\r\n",
        "\"\"\"\r\n",
        "\r\n",
        "c_00 = 0.0\r\n",
        "\r\n",
        "for i in range(3):\r\n",
        "  c_00 = a_ndarray[0][i] * b_ndarray[i][0]\r\n",
        "\r\n",
        "print(f\"Value of C[0][0]: {c_00}\") "
      ],
      "execution_count": 23,
      "outputs": [
        {
          "output_type": "stream",
          "text": [
            "Value of C[0][0]: 6\n"
          ],
          "name": "stdout"
        }
      ]
    },
    {
      "cell_type": "code",
      "metadata": {
        "colab": {
          "base_uri": "https://localhost:8080/"
        },
        "id": "9hC8-idk_7D6",
        "outputId": "21c04da4-7b72-4a41-98b2-d88ec4a05af2"
      },
      "source": [
        "\"\"\"\r\n",
        "Problem 4\r\n",
        "Creating a function that performs matrix multiplication\r\n",
        "\"\"\"\r\n",
        "\r\n",
        "def matrix_multiplication(a, b):\r\n",
        "  c = np.zeros((a.shape[0], b.shape[1]))\r\n",
        "\r\n",
        "  for i in range(a.shape[0]):\r\n",
        "    for j in range(b.shape[1]):\r\n",
        "      for k in range(b.shape[1]):\r\n",
        "        c[i][j] += a[i][k] * b[k][j]\r\n",
        "\r\n",
        "  return c\r\n",
        "\r\n",
        "c = matrix_multiplication(a_ndarray, b_ndarray)\r\n",
        "print('Matrix multiplication of A and B \\nC:')\r\n",
        "print(c)"
      ],
      "execution_count": 24,
      "outputs": [
        {
          "output_type": "stream",
          "text": [
            "Matrix multiplication of A and B \n",
            "C:\n",
            "[[  6.  29. -20.]\n",
            " [ 12.  52.  38.]\n",
            " [-18. -51. -48.]]\n"
          ],
          "name": "stdout"
        }
      ]
    },
    {
      "cell_type": "code",
      "metadata": {
        "id": "cVjEaG4WHGQg",
        "colab": {
          "base_uri": "https://localhost:8080/"
        },
        "outputId": "81f811f3-6e89-4e43-da68-c7f8eb0e9e8c"
      },
      "source": [
        "\"\"\"\r\n",
        "Problem 5\r\n",
        "Judge the input whose calculation is not defined\r\n",
        "\"\"\"\r\n",
        "\r\n",
        "def matrix_multiplication(a, b):\r\n",
        "  if a.shape[1] != b.shape[0]:\r\n",
        "    print(\"Incorrect input dimension\")\r\n",
        "    return None\r\n",
        "\r\n",
        "  c = np.zeros((a.shape[0], b.shape[1]))\r\n",
        "\r\n",
        "  for i in range(a.shape[0]):\r\n",
        "    for j in range(b.shape[1]):\r\n",
        "      for k in range(b.shape[1]):\r\n",
        "        c[i][j] += a[i][k] * b[k][j]\r\n",
        "\r\n",
        "  return c\r\n",
        "\r\n",
        "a_test = np.array([[-1, 2, 3], [4, -5, 6], [7, 8, -9]])\r\n",
        "b_test = np.array([[0, 2], [0, 2]])\r\n",
        "\r\n",
        "print('Valid multiplication \\nC:')\r\n",
        "c = matrix_multiplication(a_ndarray, b_ndarray)\r\n",
        "print(c)\r\n",
        "\r\n",
        "print('\\nInvalid multiplication \\nC:')\r\n",
        "c_test = matrix_multiplication(a_test, b_test)\r\n",
        "print(c_test)"
      ],
      "execution_count": 38,
      "outputs": [
        {
          "output_type": "stream",
          "text": [
            "Valid multiplication \n",
            "C:\n",
            "[[  6.  29. -20.]\n",
            " [ 12.  52.  38.]\n",
            " [-18. -51. -48.]]\n",
            "\n",
            "Invalid multiplication \n",
            "C:\n",
            "Incorrect input dimension\n",
            "None\n"
          ],
          "name": "stdout"
        }
      ]
    },
    {
      "cell_type": "code",
      "metadata": {
        "colab": {
          "base_uri": "https://localhost:8080/"
        },
        "id": "S2paZs7Xlapj",
        "outputId": "155357cf-15de-4b48-81e5-2d69efb30d6a"
      },
      "source": [
        "\"\"\"\r\n",
        "Problem 6\r\n",
        "Transposition\r\n",
        "\"\"\"\r\n",
        "\r\n",
        "a = np.array([[1, 2, 3], [4, 5, 6]]) # 2 x 3\r\n",
        "b = np.array([[1, 2, 3], [5, 6, 7], [9, 10, 11], [13, 14, 15]]) # 4 x 3\r\n",
        "\r\n",
        "c = np.dot(a, b_transpose) # 2 x 4\r\n",
        "print(c)"
      ],
      "execution_count": 39,
      "outputs": [
        {
          "output_type": "stream",
          "text": [
            "[[ 14  38  62  86]\n",
            " [ 32  92 152 212]]\n"
          ],
          "name": "stdout"
        }
      ]
    }
  ]
}