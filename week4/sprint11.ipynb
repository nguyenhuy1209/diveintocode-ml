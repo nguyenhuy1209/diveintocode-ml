{
  "nbformat": 4,
  "nbformat_minor": 0,
  "metadata": {
    "colab": {
      "name": "sprint11.ipynb",
      "provenance": [],
      "collapsed_sections": []
    },
    "kernelspec": {
      "name": "python3",
      "display_name": "Python 3"
    },
    "language_info": {
      "name": "python"
    }
  },
  "cells": [
    {
      "cell_type": "markdown",
      "metadata": {
        "id": "ZZOL7-FxQ7yQ"
      },
      "source": [
        "# Simple Convolutional 1D"
      ]
    },
    {
      "cell_type": "code",
      "metadata": {
        "id": "gDpmxw24bLIw"
      },
      "source": [
        "import numpy as np\n",
        "import matplotlib.pyplot as plt\n",
        "import seaborn as sns\n",
        "%matplotlib inline"
      ],
      "execution_count": 186,
      "outputs": []
    },
    {
      "cell_type": "code",
      "metadata": {
        "id": "etvKJ8MYEVR7"
      },
      "source": [
        "class Initializer:\n",
        "    def __init__(self, sigma=0.02):\n",
        "        self.sigma = sigma\n",
        "    def W(self, n_nodes1, n_nodes2):\n",
        "      \"\"\"\n",
        "      Weight initialization\n",
        "      Parameters\n",
        "      ----------\n",
        "      n_nodes1 : int\n",
        "        Number of nodes in the previous layer\n",
        "      n_nodes2 : int\n",
        "        Number of nodes in the later layer\n",
        "      Returns\n",
        "      ----------\n",
        "      W :\n",
        "      \"\"\"\n",
        "      pass\n",
        "    def B(self, n_nodes2):\n",
        "      \"\"\"\n",
        "      Bias initialization\n",
        "      Parameters\n",
        "      ----------\n",
        "      n_nodes2 : int\n",
        "        Number of nodes in the later layer\n",
        "      Returns\n",
        "      ----------\n",
        "      B :\n",
        "      \"\"\"\n",
        "      pass\n",
        "class SimpleInitializer(Initializer):\n",
        "    def W(self, n_nodes1, n_nodes2):\n",
        "        return self.sigma * np.random.randn(n_nodes1, n_nodes2)\n",
        "    \n",
        "    def B(self, n_nodes2):\n",
        "        return self.sigma * np.random.randn(n_nodes2)\n",
        "\n",
        "class XavierInitializer(Initializer):\n",
        "    def W(self, n_nodes1, n_nodes2):\n",
        "        return self.sigma * np.random.normal(scale=np.sqrt(1/(n_nodes1+n_nodes2)), size=(n_nodes1, n_nodes2))\n",
        "\n",
        "    def B(self, n_nodes2):\n",
        "        return self.sigma * np.random.normal(scale=np.sqrt(1/n_nodes2), size=n_nodes2)\n",
        "\n",
        "\n",
        "class HeInitializer(Initializer):\n",
        "    def W(self, n_nodes1, n_nodes2):\n",
        "        return self.sigma * np.random.normal(scale=np.sqrt(2/(n_nodes1+n_nodes2)), size=(n_nodes1, n_nodes2))\n",
        "        # return self.sigma * np.random.normal( size=(n_nodes1, n_nodes2))\n",
        "\n",
        "    def B(self, n_nodes2):\n",
        "        return self.sigma * np.random.normal(scale=np.sqrt(2/n_nodes2), size=n_nodes2)\n",
        "        # return self.sigma * np.random.normal(size=n_nodes2)"
      ],
      "execution_count": 187,
      "outputs": []
    },
    {
      "cell_type": "code",
      "metadata": {
        "id": "5KQZVcM0ETMF"
      },
      "source": [
        "class Optimizer:\n",
        "    def __init__(self, lr=0.01):\n",
        "        self.lr = lr\n",
        "    def update(self, layer):\n",
        "        \"\"\"\n",
        "        Update weights and biases for a layer\n",
        "        Parameters\n",
        "        ----------\n",
        "        layer : Instance of the layer before update\n",
        "        \"\"\"\n",
        "        pass\n",
        "\n",
        "class SGD(Optimizer):\n",
        "    def update(self, layer):\n",
        "        layer.B -= self.lr*layer.dB\n",
        "        layer.W -= self.lr*layer.dW\n",
        "\n",
        "class AdaGrad(Optimizer):\n",
        "    def __init__(self, lr=0.01):\n",
        "        self.lr = lr\n",
        "        self.hW = 0\n",
        "        self.hB = 0\n",
        "    def update(self, layer):\n",
        "        self.hW += layer.dW ** 2\n",
        "        self.hB = layer.dB ** 2\n",
        "\n",
        "        layer.W -= self.lr * layer.dW / (np.sqrt(self.hW) + 1e-7)\n",
        "        layer.B -= self.lr * layer.dB / (np.sqrt(self.hB) + 1e-7)"
      ],
      "execution_count": 188,
      "outputs": []
    },
    {
      "cell_type": "code",
      "metadata": {
        "id": "J4x6alLqERqh"
      },
      "source": [
        "class Tanh:\n",
        "    def forward(self, A):\n",
        "      self.A = A\n",
        "      return np.tanh(A)\n",
        "    \n",
        "    def backward(self, dZ):\n",
        "      return dZ * (1 - np.power(np.tanh(self.A),2))\n",
        "\n",
        "class Sigmoid:\n",
        "    def __sigmoid(self, X):\n",
        "      return 1 / ( 1 + np.exp(-X) ) \n",
        "    def forward(self, A):\n",
        "      self.A = A\n",
        "      return self.__sigmoid(A)\n",
        "    \n",
        "    def backward(self, dZ):\n",
        "      return dZ * (1 - self.__sigmoid(self.A)) * self.__sigmoid(self.A)\n",
        "\n",
        "class ReLu:\n",
        "    def forward(self, A):\n",
        "      self.A = A\n",
        "      return np.maximum(A, 0)\n",
        "    \n",
        "    def backward(self, dZ):\n",
        "      return dZ * ((self.A > 0) * 1)\n",
        "\n",
        "class Softmax:\n",
        "    def forward(self, X):\n",
        "      e = np.exp(X)\n",
        "      return e / np.sum(e, axis=1).reshape(-1,1)\n",
        "    \n",
        "    def backward(self, Yhat, Y):\n",
        "      n_batches = Yhat.shape[0]\n",
        "      return (Yhat-Y)/n_batches"
      ],
      "execution_count": 189,
      "outputs": []
    },
    {
      "cell_type": "code",
      "metadata": {
        "id": "y-29z3miixYx"
      },
      "source": [
        "class FC:\n",
        "    def __init__(self, n_nodes1, n_nodes2, initializer,\n",
        "                 activation, optimizer, bias=True):\n",
        "        self.n_nodes1 = n_nodes1\n",
        "        self.n_nodes2 = n_nodes2\n",
        "        self.initializer = initializer\n",
        "        self.activation = activation\n",
        "        self.optimizer = optimizer\n",
        "        self.bias = bias\n",
        "        self._init_weights()\n",
        "    \n",
        "    def _init_weights(self):\n",
        "        self.W = self.initializer.W(self.n_nodes1, self.n_nodes2)\n",
        "        self.B = self.initializer.B(self.n_nodes2)\n",
        "        \n",
        "    def forward(self, X):\n",
        "        self.input = X\n",
        "        self.A = np.matmul(X, self.W) + self.B if self.bias else np.matmul(X, self.W)\n",
        "        return self.activation.forward(self.A)\n",
        "\n",
        "    def backward(self, y_pred, y_true=None):\n",
        "        if isinstance(self.activation, Softmax):\n",
        "            dA = self.activation.backward(y_pred, y_true)\n",
        "        else:\n",
        "            dA = self.activation.backward(y_pred)\n",
        "\n",
        "        self.dW = self.input.T @ dA / len(self.input)\n",
        "        self.dB = np.mean(dA, axis=0)\n",
        "        dZ = np.dot(dA, self.W.T)\n",
        "        \n",
        "        self.optimizer.update(self)\n",
        "        return dZ"
      ],
      "execution_count": 190,
      "outputs": []
    },
    {
      "cell_type": "code",
      "metadata": {
        "id": "vUUnGe8abfj1"
      },
      "source": [
        "class GetMiniBatch:\n",
        "    def __init__(self, X, y, batch_size=20, seed=0):\n",
        "        self.batch_size = batch_size\n",
        "        np.random.seed(seed)\n",
        "        shuffle_index = np.random.permutation(np.arange(X.shape[0]))\n",
        "        self._X = X[shuffle_index]\n",
        "        self._y = y[shuffle_index]\n",
        "        self._stop = np.ceil(X.shape[0]/self.batch_size).astype(np.int)\n",
        "    def __len__(self):\n",
        "        return self._stop\n",
        "    def __getitem__(self,item):\n",
        "        p0 = item*self.batch_size\n",
        "        p1 = item*self.batch_size + self.batch_size\n",
        "        return self._X[p0:p1], self._y[p0:p1]        \n",
        "    def __iter__(self):\n",
        "        self._counter = 0\n",
        "        return self\n",
        "    def __next__(self):\n",
        "        if self._counter >= self._stop:\n",
        "            raise StopIteration()\n",
        "        p0 = self._counter*self.batch_size\n",
        "        p1 = self._counter*self.batch_size + self.batch_size\n",
        "        self._counter += 1\n",
        "        return self._X[p0:p1], self._y[p0:p1]"
      ],
      "execution_count": 191,
      "outputs": []
    },
    {
      "cell_type": "markdown",
      "metadata": {
        "id": "0LQd-b-fRnzG"
      },
      "source": [
        "# **Problem 1** Creating a one-dimensional convolutional layer class that limits the number of channels to one"
      ]
    },
    {
      "cell_type": "code",
      "metadata": {
        "id": "MEXkUoiklG96"
      },
      "source": [
        "def forward(X, W, B):\n",
        "    filter_size = len(X) - len(W) + 1\n",
        "\n",
        "    a = np.zeros(shape=(filter_size,))\n",
        "\n",
        "    for i in range(filter_size):\n",
        "        a[i] = np.sum(X[i:i + len(W)] * W) + B\n",
        "    return a\n",
        "\n",
        "def backward(X, W, dA):\n",
        "    if dA.ndim == 1:\n",
        "        dB = np.array([np.sum(dA)])\n",
        "    else:\n",
        "        dB = np.sum(dA, axis=1)\n",
        "\n",
        "    dW = np.zeros(len(W))\n",
        "    for i in range(len(W)):\n",
        "        dW[i] = np.sum(X[i:i+len(dA)] * dA)\n",
        "\n",
        "    zero = np.zeros(len(dA) - 1)\n",
        "    padding_W = np.concatenate([zero, W, zero], axis=0)\n",
        "    dX = np.zeros(len(X))\n",
        "    for i in range(len(X)):\n",
        "        dX[i] = np.sum(padding_W[i:i+len(dA)] * dA[::-1])\n",
        "\n",
        "    return dB, dW, dX"
      ],
      "execution_count": 192,
      "outputs": []
    },
    {
      "cell_type": "markdown",
      "metadata": {
        "id": "dqrqmO3moO1u"
      },
      "source": [
        "# **Problem 2:** Output size calculation after one-dimensional convolution"
      ]
    },
    {
      "cell_type": "code",
      "metadata": {
        "id": "G-SMJfqIoN5K"
      },
      "source": [
        "def output_shape(n_in, filter_size, padding=0, stride=1):\n",
        "    shape = (n_in + 2*padding - filter_size) / stride + 1\n",
        "    return int(shape)"
      ],
      "execution_count": 193,
      "outputs": []
    },
    {
      "cell_type": "markdown",
      "metadata": {
        "id": "-0fVVqyG9uur"
      },
      "source": [
        "# **Problem 3:** Experiment of one-dimensional convolutional layer with small array"
      ]
    },
    {
      "cell_type": "code",
      "metadata": {
        "id": "IpEQ_yROExru"
      },
      "source": [
        "x = np.array([1,2,3,4])\n",
        "w = np.array([3,5,7])\n",
        "b = np.array([1])\n",
        "delta_a = np.array([10, 20])"
      ],
      "execution_count": 194,
      "outputs": []
    },
    {
      "cell_type": "code",
      "metadata": {
        "id": "ZfXHnc2kpeyJ",
        "colab": {
          "base_uri": "https://localhost:8080/"
        },
        "outputId": "54d6bea8-0bc5-4439-a09f-2896554486fd"
      },
      "source": [
        "output_shape(4, 3, 0, 1)"
      ],
      "execution_count": 195,
      "outputs": [
        {
          "output_type": "execute_result",
          "data": {
            "text/plain": [
              "2"
            ]
          },
          "metadata": {},
          "execution_count": 195
        }
      ]
    },
    {
      "cell_type": "code",
      "metadata": {
        "colab": {
          "base_uri": "https://localhost:8080/"
        },
        "id": "JdWngioWD_vh",
        "outputId": "3f3b90f5-ec3d-4e6e-f039-f4d66ccf2495"
      },
      "source": [
        "print('forward pass:', forward(x, w, b))\n",
        "print('backward pass:', backward(x, w, delta_a))"
      ],
      "execution_count": 196,
      "outputs": [
        {
          "output_type": "stream",
          "name": "stdout",
          "text": [
            "forward pass: [35. 50.]\n",
            "backward pass: (array([30]), array([ 50.,  80., 110.]), array([ 30., 110., 170., 140.]))\n"
          ]
        }
      ]
    },
    {
      "cell_type": "markdown",
      "metadata": {
        "id": "_6D5NKqBGoky"
      },
      "source": [
        "# **Problem 4:** Creating a one-dimensional convolutional layer class that does not limit the number of channels"
      ]
    },
    {
      "cell_type": "code",
      "metadata": {
        "id": "WQdCdButJtQY"
      },
      "source": [
        "# Shape (2, 4): (number of input channels, number of features)\n",
        "x = np.array([[1, 2, 3, 4],\n",
        "              [2, 3, 4, 5]])\n",
        "\n",
        "# Shape: (number of output channels, number of input channels, filter_size)\n",
        "w = np.ones((3, 2, 3))\n",
        "\n",
        "# Shape: (number of output channels)\n",
        "b = np.array([1, 2, 3])"
      ],
      "execution_count": 197,
      "outputs": []
    },
    {
      "cell_type": "code",
      "metadata": {
        "id": "gLb9XFduK7RP"
      },
      "source": [
        "def forward_with_channel(X, W, B):\n",
        "    out_feature_size = output_shape(X.shape[1], W.shape[2])\n",
        "    A = np.zeros((W.shape[0], out_feature_size))\n",
        "\n",
        "    for out_channel in range(W.shape[0]):\n",
        "        for in_channel in range(W.shape[1]):\n",
        "            for i in range(out_feature_size):\n",
        "                A[out_channel, i] += np.sum(X[in_channel, i:i + W.shape[2]] * W[out_channel, in_channel, :])\n",
        "\n",
        "    A += B[:, np.newaxis]\n",
        "    return A\n",
        "\n",
        "def backward_with_channel(X, W, B, dA):\n",
        "    if dA.ndim == 1:\n",
        "        dB = np.array([np.sum(dA)])\n",
        "    else:\n",
        "        dB = np.sum(dA, axis=1)\n",
        "\n",
        "    dW = np.zeros(W.shape)\n",
        "    for out_channel in range(W.shape[0]):\n",
        "        for in_channel in range(W.shape[1]):\n",
        "            for fs in range(W.shape[2]):\n",
        "                dW[out_channel, in_channel, fs] += np.sum(X[in_channel, fs:fs + dA.shape[1]] * dA[out_channel])\n",
        "    \n",
        "    dX = np.zeros(X.shape)\n",
        "    for out_channel in range(W.shape[0]):\n",
        "        for in_channel in range(W.shape[1]):\n",
        "            for fs in range(W.shape[2]):\n",
        "                for m in range(dA.shape[1]):\n",
        "                    dX[in_channel, fs + m] += W[out_channel, in_channel, fs] * dA[out_channel, m]\n",
        "    \n",
        "    return dW, dB, dX"
      ],
      "execution_count": 198,
      "outputs": []
    },
    {
      "cell_type": "code",
      "metadata": {
        "colab": {
          "base_uri": "https://localhost:8080/"
        },
        "id": "qY2_0KYaTHfg",
        "outputId": "a23c788a-884d-4368-b2cc-2e11a86af3e7"
      },
      "source": [
        "forward_with_channel(x, w, b)"
      ],
      "execution_count": 199,
      "outputs": [
        {
          "output_type": "execute_result",
          "data": {
            "text/plain": [
              "array([[16., 22.],\n",
              "       [17., 23.],\n",
              "       [18., 24.]])"
            ]
          },
          "metadata": {},
          "execution_count": 199
        }
      ]
    },
    {
      "cell_type": "markdown",
      "metadata": {
        "id": "2XxXFEjMOfVT"
      },
      "source": [
        "#**Problem 5:** (Advanced task) Implementing padding"
      ]
    },
    {
      "cell_type": "code",
      "metadata": {
        "id": "Rvvoy6rj-XMj"
      },
      "source": [
        "def pad(X, padding=0):\n",
        "    return np.pad(X, padding, \"constant\")"
      ],
      "execution_count": 200,
      "outputs": []
    },
    {
      "cell_type": "code",
      "metadata": {
        "colab": {
          "base_uri": "https://localhost:8080/"
        },
        "id": "q03R-CkCk_kF",
        "outputId": "9698d32a-a9b1-4790-e479-422a248486c7"
      },
      "source": [
        "pad([1, 2, 3, 4, 5], 1)"
      ],
      "execution_count": 201,
      "outputs": [
        {
          "output_type": "execute_result",
          "data": {
            "text/plain": [
              "array([0, 1, 2, 3, 4, 5, 0])"
            ]
          },
          "metadata": {},
          "execution_count": 201
        }
      ]
    },
    {
      "cell_type": "code",
      "metadata": {
        "colab": {
          "base_uri": "https://localhost:8080/"
        },
        "id": "0WiCxaHSlEeY",
        "outputId": "ea3c8a5f-cccc-4071-fd98-3865b17038fb"
      },
      "source": [
        "a = [[1, 2, 3],\n",
        "     [4, 5, 6],\n",
        "     [7, 8, 9]]\n",
        "pad(a, 3)"
      ],
      "execution_count": 202,
      "outputs": [
        {
          "output_type": "execute_result",
          "data": {
            "text/plain": [
              "array([[0, 0, 0, 0, 0, 0, 0, 0, 0],\n",
              "       [0, 0, 0, 0, 0, 0, 0, 0, 0],\n",
              "       [0, 0, 0, 0, 0, 0, 0, 0, 0],\n",
              "       [0, 0, 0, 1, 2, 3, 0, 0, 0],\n",
              "       [0, 0, 0, 4, 5, 6, 0, 0, 0],\n",
              "       [0, 0, 0, 7, 8, 9, 0, 0, 0],\n",
              "       [0, 0, 0, 0, 0, 0, 0, 0, 0],\n",
              "       [0, 0, 0, 0, 0, 0, 0, 0, 0],\n",
              "       [0, 0, 0, 0, 0, 0, 0, 0, 0]])"
            ]
          },
          "metadata": {},
          "execution_count": 202
        }
      ]
    },
    {
      "cell_type": "markdown",
      "metadata": {
        "id": "17g0ETCfoeYV"
      },
      "source": [
        "# **Problem 6:** (Advanced task) Response to mini batch"
      ]
    },
    {
      "cell_type": "code",
      "metadata": {
        "id": "3jg-UqqEbg2l"
      },
      "source": [
        "class SimpleInitializerConv1d:\n",
        "    def __init__(self, sigma=0.02, seed=None):\n",
        "        self.sigma = sigma\n",
        "        self.seed = seed\n",
        "        np.random.seed(seed)\n",
        "\n",
        "    def W(self, *shape):\n",
        "        W = self.sigma * np.random.randn(*shape)\n",
        "        return W\n",
        "\n",
        "    def B(self, *shape):\n",
        "        B = self.sigma * np.random.randn(*shape)\n",
        "        return B"
      ],
      "execution_count": 203,
      "outputs": []
    },
    {
      "cell_type": "code",
      "metadata": {
        "id": "igH6_gC3Q3cr"
      },
      "source": [
        "class SimpleConv1d:\n",
        "    def __init__(self, out_channel, in_channel, filter_size,\n",
        "                 padding=0, stride=1, initializer=None,\n",
        "                 optimizer=None, activation=None):\n",
        "        self.out_channel = out_channel\n",
        "        self.in_channel = in_channel\n",
        "        self.filter_size = filter_size\n",
        "        self.padding = padding\n",
        "        self.stride = stride\n",
        "\n",
        "        self.initializer = initializer\n",
        "        self.optimizer = optimizer\n",
        "        self.activation = activation\n",
        "        self._init_weights()\n",
        "\n",
        "    def _init_weights(self):\n",
        "        self.W = self.initializer.W(self.out_channel, self.in_channel, self.filter_size)\n",
        "        self.B = self.initializer.B(self.out_channel)\n",
        "    \n",
        "    def _output_shape(self, n_features):\n",
        "        return int((n_features + 2 * self.padding - self.filter_size) / self.stride + 1)\n",
        "    \n",
        "    def forward(self, X):\n",
        "        self.input = X\n",
        "        self.N, self.in_channel, n_features = X.shape\n",
        "        self.OUT = self._output_shape(n_features)\n",
        "\n",
        "        self.A = np.zeros((self.N, self.out_channel, self.OUT))\n",
        "        for n in range(self.N):\n",
        "            for out_channel in range(self.out_channel):\n",
        "                for in_channel in range(self.in_channel):\n",
        "                    pad_X = np.pad(self.input[n, in_channel], self.padding)\n",
        "                    for m in range(self.OUT):\n",
        "                        stride_m = m * self.stride\n",
        "                        self.A[n, out_channel, m] += np.sum(pad_X[stride_m:stride_m + self.filter_size] * self.W[out_channel, in_channel, :])\n",
        "\n",
        "        self.A += self.B[:, None]\n",
        "        self.output = self.activation.forward(self.A)\n",
        "        return self.output\n",
        "    \n",
        "    def backward(self, d):\n",
        "        dA = self.activation.backward(d)\n",
        "\n",
        "        # Gradient B\n",
        "        self.dB = np.mean(np.sum(dA, axis=2), axis=0)\n",
        "\n",
        "        # Gradient W, X\n",
        "        self.dW = np.zeros(self.W.shape)\n",
        "        dZ = np.zeros((*self.input.shape[:-1], self.input.shape[-1] + 2 * self.padding))\n",
        "\n",
        "        for n in range(self.N):\n",
        "            for out_channel in range(self.out_channel):\n",
        "                for in_channel in range(self.in_channel):\n",
        "                    pad_X = np.pad(self.input[n, in_channel], self.padding)\n",
        "                    for fs in range(self.filter_size):\n",
        "                        for m in range(self.OUT):\n",
        "                            stride_m = m * self.stride\n",
        "                            self.dW[out_channel, in_channel, fs] += pad_X[fs + stride_m] * dA[n, out_channel, m]\n",
        "                            dZ[n, in_channel, fs + stride_m] += self.W[out_channel, in_channel, fs] * dA[n, out_channel, m]\n",
        "        \n",
        "        if self.padding > 0:\n",
        "            dZ = dZ[:, :, self.padding:-self.padding]\n",
        "\n",
        "        self.optimizer.update(self)\n",
        "        return dZ"
      ],
      "execution_count": 204,
      "outputs": []
    },
    {
      "cell_type": "markdown",
      "metadata": {
        "id": "K8goL5uQrbBT"
      },
      "source": [
        "# **Problem 7:** (Advance assignment) Arbitrary number of strides"
      ]
    },
    {
      "cell_type": "code",
      "metadata": {
        "id": "r7lDNI-AlIoK"
      },
      "source": [
        "def forward_with_strides(X, W, B, padding=0, stride=1):\n",
        "    out_feature_size = output_shape(X.shape[1], W.shape[2], padding, stride)\n",
        "    A = np.zeros((W.shape[0], out_feature_size))\n",
        "\n",
        "    for out_channel in range(W.shape[0]):\n",
        "        for in_channel in range(W.shape[1]):\n",
        "            for i in range(0, out_feature_size):\n",
        "                X_padded = pad(X[in_channel], padding)\n",
        "                idx = i * stride\n",
        "                A[out_channel, i] += np.sum(X_padded[idx:idx + W.shape[2]] * W[out_channel, in_channel, :])\n",
        "\n",
        "    A += B[:, None]\n",
        "    return A\n",
        "\n",
        "def backward_with_strides(X, W, B, dA, padding=0, stride=1):\n",
        "    if dA.ndim == 1:\n",
        "        dB = np.array([np.sum(dA)])\n",
        "    else:\n",
        "        dB = np.sum(dA, axis=1)\n",
        "\n",
        "    dW = np.zeros(W.shape)\n",
        "    dX = np.zeros((*X.shape[:-1], X.shape[-1] + 2*padding))\n",
        "    for out_channel in range(W.shape[0]):\n",
        "        for in_channel in range(W.shape[1]):\n",
        "            for fs in range(W.shape[2]):\n",
        "                for i in range(dA.shape[1]):\n",
        "                    X_padded = pad(X[in_channel], padding)\n",
        "                    dW[out_channel, in_channel, fs] += X_padded[fs + i*stride] * dA[out_channel, i]\n",
        "                    dX[in_channel, fs + i*stride] += W[out_channel, in_channel, fs] * dA[out_channel, i]\n",
        "\n",
        "    if padding > 0:\n",
        "        dX = dX[:, padding:-padding]\n",
        "    return dW, dB, dX"
      ],
      "execution_count": 205,
      "outputs": []
    },
    {
      "cell_type": "code",
      "metadata": {
        "id": "OhSgC7a-rOT9"
      },
      "source": [
        "x = np.array([[1, 2, 3, 4],\n",
        "              [2, 3, 4, 5]])\n",
        "\n",
        "w = np.ones((3, 2, 3))\n",
        "\n",
        "b = np.array([1, 2, 3])\n",
        "\n",
        "dA = np.array([[9, 11, 10],\n",
        "               [32, 35, 30],\n",
        "               [52, 56, 50]])"
      ],
      "execution_count": 206,
      "outputs": []
    },
    {
      "cell_type": "code",
      "metadata": {
        "colab": {
          "base_uri": "https://localhost:8080/"
        },
        "id": "z58Fo07PsBAL",
        "outputId": "010d3596-4e92-4ca7-f835-232f5809fb9b"
      },
      "source": [
        "forward_with_strides(x, w, b, 0, 1)"
      ],
      "execution_count": 207,
      "outputs": [
        {
          "output_type": "execute_result",
          "data": {
            "text/plain": [
              "array([[16., 22.],\n",
              "       [17., 23.],\n",
              "       [18., 24.]])"
            ]
          },
          "metadata": {},
          "execution_count": 207
        }
      ]
    },
    {
      "cell_type": "code",
      "metadata": {
        "colab": {
          "base_uri": "https://localhost:8080/"
        },
        "id": "SmiBPCYdvLKP",
        "outputId": "ff78d1e4-68b9-4df5-e8ce-5cf5f3fcb7a7"
      },
      "source": [
        "forward_with_strides(x, w, b, 1, 1)"
      ],
      "execution_count": 208,
      "outputs": [
        {
          "output_type": "execute_result",
          "data": {
            "text/plain": [
              "array([[ 9., 16., 22., 17.],\n",
              "       [10., 17., 23., 18.],\n",
              "       [11., 18., 24., 19.]])"
            ]
          },
          "metadata": {},
          "execution_count": 208
        }
      ]
    },
    {
      "cell_type": "code",
      "metadata": {
        "id": "Rwk8504w3RfJ",
        "colab": {
          "base_uri": "https://localhost:8080/"
        },
        "outputId": "6f37dfad-5518-4ff0-c839-19d995288a88"
      },
      "source": [
        "backward_with_strides(x, w, b, dA, 2, 2)"
      ],
      "execution_count": 209,
      "outputs": [
        {
          "output_type": "execute_result",
          "data": {
            "text/plain": [
              "(array([[[ 41.,  62.,  42.],\n",
              "         [ 62.,  83.,  62.]],\n",
              " \n",
              "        [[125., 190., 137.],\n",
              "         [190., 255., 204.]],\n",
              " \n",
              "        [[206., 312., 220.],\n",
              "         [312., 418., 328.]]]),\n",
              " array([ 30,  97, 158]),\n",
              " array([[195., 102., 192.,  90.],\n",
              "        [195., 102., 192.,  90.]]))"
            ]
          },
          "metadata": {},
          "execution_count": 209
        }
      ]
    },
    {
      "cell_type": "markdown",
      "metadata": {
        "id": "aSB8TYTAp1Nw"
      },
      "source": [
        "#**Problem 8** Learning and estimation"
      ]
    },
    {
      "cell_type": "code",
      "metadata": {
        "id": "IOyDXn-A_81K"
      },
      "source": [
        "from sklearn.metrics import classification_report, confusion_matrix\n",
        "from sklearn.metrics import roc_auc_score\n",
        "\n",
        "def plot_learning_curve(train_loss, val_loss=None):\n",
        "    plt.figure(figsize=(16, 8))\n",
        "    plt.plot(train_loss, label=\"train_loss\", linewidth=5)\n",
        "    if val_loss is not None:\n",
        "        plt.plot(val_loss, label=\"val_loss\", linewidth=5)\n",
        "    plt.xlabel(\"epoch\")\n",
        "    plt.ylabel(\"loss\")\n",
        "    plt.legend()\n",
        "    plt.show()"
      ],
      "execution_count": 231,
      "outputs": []
    },
    {
      "cell_type": "code",
      "metadata": {
        "id": "-xlumGBQBEc7"
      },
      "source": [
        "class ScratchCNNClassifier:\n",
        "    def __init__(self, batch_size=1, epochs=10, CNN=[], FC=[],\n",
        "                 random_state=None, verbose=False):\n",
        "        self.batch_size = batch_size\n",
        "        self.epochs = epochs\n",
        "        self.CNN = CNN.copy()\n",
        "        self.FC = FC.copy()\n",
        "        self.random_state = random_state\n",
        "        self.verbose = verbose\n",
        "    \n",
        "    def add(self, layer):\n",
        "        if isinstance(layer, SimpleConv1d):\n",
        "            self.CNN.append(layer)\n",
        "        elif isinstance(layer, FC):\n",
        "            self.FC.append(layer)\n",
        "\n",
        "    def loss_function(self, y_true, y_proba, tol=1e-7):\n",
        "        L = -np.mean(y_true * np.log(y_proba + tol))\n",
        "        return L\n",
        "    \n",
        "    def _feedforward(self, X):\n",
        "        Z = X.reshape(self.batch_size, 1, -1)\n",
        "        for layer in self.CNN:\n",
        "            Z = layer.forward(Z)\n",
        "        self.cnn_out_shape = Z.shape\n",
        "        Z = Z.reshape(self.batch_size, -1)\n",
        "        for layer in self.FC:\n",
        "            Z = layer.forward(Z)\n",
        "        return Z\n",
        "    \n",
        "    def _backpropagation(self, dZ, y_true):\n",
        "        dZ = self.FC[-1].backward(dZ, y_true)\n",
        "        for layer in self.FC[-2::-1]:\n",
        "            dZ = layer.backward(dZ)\n",
        "        dZ = dZ.reshape(self.cnn_out_shape)\n",
        "        for layer in self.CNN[::-1]:\n",
        "            dZ = layer.backward(dZ)\n",
        "        \n",
        "    def fit(self, X, y, X_val=None, y_val=None):\n",
        "        self.train_loss = []\n",
        "        self.val_loss = []\n",
        "        for i in range(self.epochs):\n",
        "            mini_batch = GetMiniBatch(X, y, batch_size=self.batch_size, seed=self.random_state)\n",
        "            loss = 0\n",
        "            for mini_X, mini_y in mini_batch:\n",
        "                Z = self._feedforward(mini_X)\n",
        "                self._backpropagation(Z, mini_y)\n",
        "                \n",
        "                # Accumulate loss\n",
        "                l = self.loss_function(mini_y, Z)\n",
        "                loss += l\n",
        "                print(\"Loss\", l)\n",
        "\n",
        "            self.train_loss.append(loss / len(mini_batch))\n",
        "            if X_val is not None and y_val is not None:\n",
        "                self.val_loss.append(self.loss_function(y_val, self.predict_proba(X_val)))\n",
        "\n",
        "            if self.verbose:\n",
        "                print(\"Epoch\", i, \"Loss:\", self.train_loss[-1])\n",
        "        return self\n",
        "    \n",
        "    def predict_proba(self, X):\n",
        "        Z = X[:, np.newaxis, :]\n",
        "        for layer in self.CNN:\n",
        "            Z = layer.forward(Z)\n",
        "        Z = Z.reshape(len(X), -1)\n",
        "        for layer in self.FC:\n",
        "            Z = layer.forward(Z)\n",
        "        return Z\n",
        "\n",
        "    def predict(self, X):\n",
        "        y_proba = self.predict_proba(X)\n",
        "        return np.argmax(y_proba, axis=1)"
      ],
      "execution_count": 211,
      "outputs": []
    },
    {
      "cell_type": "code",
      "metadata": {
        "id": "U_IwOHhqi-1K"
      },
      "source": [
        "from keras.datasets import mnist\n",
        "(X_train, y_train), (X_test, y_test) = mnist.load_data()"
      ],
      "execution_count": 212,
      "outputs": []
    },
    {
      "cell_type": "code",
      "metadata": {
        "id": "z8lHSd7V5ICc"
      },
      "source": [
        "X_train = X_train.reshape(-1, 784)\n",
        "X_test = X_test.reshape(-1, 784)"
      ],
      "execution_count": 213,
      "outputs": []
    },
    {
      "cell_type": "code",
      "metadata": {
        "id": "F0ur_FnS5Mfs"
      },
      "source": [
        "X_train = X_train.astype(np.float)\n",
        "X_test = X_test.astype(np.float)\n",
        "X_train /= 255\n",
        "X_test /= 255"
      ],
      "execution_count": 214,
      "outputs": []
    },
    {
      "cell_type": "code",
      "metadata": {
        "colab": {
          "base_uri": "https://localhost:8080/"
        },
        "id": "7_pbjO2X5Sgs",
        "outputId": "38c4bbe9-c595-42f1-e5fd-1ca289764c9d"
      },
      "source": [
        "from sklearn.model_selection import train_test_split\n",
        "X_train, X_val, y_train, y_val = train_test_split(X_train, y_train, test_size=0.2)\n",
        "print(X_train.shape) # (48000, 784)\n",
        "print(X_val.shape) # (12000, 784)"
      ],
      "execution_count": 215,
      "outputs": [
        {
          "output_type": "stream",
          "name": "stdout",
          "text": [
            "(48000, 784)\n",
            "(12000, 784)\n"
          ]
        }
      ]
    },
    {
      "cell_type": "code",
      "metadata": {
        "id": "gt2hKJqen81y",
        "colab": {
          "base_uri": "https://localhost:8080/"
        },
        "outputId": "1c18004a-26e3-4f82-98f9-1d1a3b3e55b1"
      },
      "source": [
        "from sklearn.preprocessing import OneHotEncoder\n",
        "enc = OneHotEncoder(handle_unknown='ignore', sparse=False)\n",
        "y_train_one_hot = enc.fit_transform(y_train[:, np.newaxis])\n",
        "y_val_one_hot = enc.transform(y_val[:, np.newaxis])\n",
        "print(y_train.shape)\n",
        "print(y_train_one_hot.shape) \n",
        "print(y_train_one_hot.dtype)"
      ],
      "execution_count": 216,
      "outputs": [
        {
          "output_type": "stream",
          "name": "stdout",
          "text": [
            "(48000,)\n",
            "(48000, 10)\n",
            "float64\n"
          ]
        }
      ]
    },
    {
      "cell_type": "code",
      "metadata": {
        "id": "933UNuJaACVl"
      },
      "source": [
        "FC1 = FC(15640, 200, initializer=HeInitializer(), activation=ReLu(), optimizer=AdaGrad())\n",
        "FC2 = FC(200, 100, initializer=HeInitializer(), activation=ReLu(), optimizer=AdaGrad())\n",
        "FC3 = FC(100, 10, initializer=SimpleInitializer(), activation=Softmax(), optimizer=AdaGrad())\n",
        "conv1d = SimpleConv1d(out_channel=20, in_channel=1, filter_size=3, padding=0, stride=1,\n",
        "                      initializer=SimpleInitializerConv1d(), optimizer=SGD(0.01), activation=ReLu())\n",
        "model = ScratchCNNClassifier(batch_size=100, epochs=10, verbose=True)\n",
        "model.add(conv1d)\n",
        "model.add(FC1)\n",
        "model.add(FC2)\n",
        "model.add(FC3)"
      ],
      "execution_count": 225,
      "outputs": []
    },
    {
      "cell_type": "code",
      "metadata": {
        "id": "qCnbAdZxC_bD",
        "colab": {
          "base_uri": "https://localhost:8080/"
        },
        "outputId": "b2f79380-3a38-49ea-f285-1516b353e893"
      },
      "source": [
        "# Only train 1000 first examples because the training time is too long :(\n",
        "model.fit(X_train[:1000], y_train_one_hot[:1000])"
      ],
      "execution_count": 227,
      "outputs": [
        {
          "output_type": "stream",
          "name": "stdout",
          "text": [
            "Loss 0.23021158030661007\n",
            "Loss 0.23067163054012177\n",
            "Loss 0.2301330285056489\n",
            "Loss 0.22971580653426182\n",
            "Loss 0.22981322115662345\n",
            "Loss 0.23016865143021137\n",
            "Loss 0.2304535131613948\n",
            "Loss 0.230321865079178\n",
            "Loss 0.2302835478044615\n",
            "Loss 0.23097652078594003\n",
            "Epoch 0 Loss: 0.2302749365304452\n",
            "Loss 0.22965259704119423\n",
            "Loss 0.22854616031580025\n",
            "Loss 0.22853373294224585\n",
            "Loss 0.23180599817210157\n",
            "Loss 0.22880613534656716\n",
            "Loss 0.23057815921545585\n",
            "Loss 0.22917805219151893\n",
            "Loss 0.22836774895138912\n",
            "Loss 0.2282594198721557\n",
            "Loss 0.22834639658155828\n",
            "Epoch 1 Loss: 0.2292074400629987\n",
            "Loss 0.2259009433400238\n",
            "Loss 0.2281538942294337\n",
            "Loss 0.22811386761517008\n",
            "Loss 0.22741526547336352\n",
            "Loss 0.22477687307208874\n",
            "Loss 0.22532852102559692\n",
            "Loss 0.2234817757083943\n",
            "Loss 0.22341062731611128\n",
            "Loss 0.22547978227726806\n",
            "Loss 0.223182319493964\n",
            "Epoch 2 Loss: 0.2255243869551414\n",
            "Loss 0.22263226475552625\n",
            "Loss 0.22135286744632357\n",
            "Loss 0.21810515736914965\n",
            "Loss 0.22411927914866417\n",
            "Loss 0.22301687574127121\n",
            "Loss 0.21801793593030055\n",
            "Loss 0.21586772224611625\n",
            "Loss 0.21754562260611607\n",
            "Loss 0.21916818934250323\n",
            "Loss 0.21915669919301287\n",
            "Epoch 3 Loss: 0.21989826137789836\n",
            "Loss 0.21590195186100136\n",
            "Loss 0.21474433090614364\n",
            "Loss 0.2131387308722322\n",
            "Loss 0.21374585050672687\n",
            "Loss 0.21381056364947856\n",
            "Loss 0.2111858864286653\n",
            "Loss 0.20537014239070192\n",
            "Loss 0.20801834652430956\n",
            "Loss 0.20702930881606044\n",
            "Loss 0.20183043900190786\n",
            "Epoch 4 Loss: 0.21047755509572275\n",
            "Loss 0.20192533175873673\n",
            "Loss 0.20318129693952275\n",
            "Loss 0.19943821161054961\n",
            "Loss 0.22173064921560923\n",
            "Loss 0.20570364390548723\n",
            "Loss 0.19501214543867004\n",
            "Loss 0.1880128706680873\n",
            "Loss 0.1891663576687809\n",
            "Loss 0.1909667459319721\n",
            "Loss 0.18445062634390547\n",
            "Epoch 5 Loss: 0.19795878794813213\n",
            "Loss 0.18525433915961784\n",
            "Loss 0.18760093014328666\n",
            "Loss 0.18494755776821734\n",
            "Loss 0.18187977979222394\n",
            "Loss 0.189380930862959\n",
            "Loss 0.18218200594562975\n",
            "Loss 0.16791374251484195\n",
            "Loss 0.1812481023072221\n",
            "Loss 0.17298051366471992\n",
            "Loss 0.16636193952580197\n",
            "Epoch 6 Loss: 0.1799749841684521\n",
            "Loss 0.17230813077120832\n",
            "Loss 0.1698402257696422\n",
            "Loss 0.16053278885515573\n",
            "Loss 0.1756952635784974\n",
            "Loss 0.1845106497426999\n",
            "Loss 0.18805702133825372\n",
            "Loss 0.17601241598127382\n",
            "Loss 0.1613178214990732\n",
            "Loss 0.16045846102817654\n",
            "Loss 0.16480733986812746\n",
            "Epoch 7 Loss: 0.1713540118432108\n",
            "Loss 0.15952775879209238\n",
            "Loss 0.1605384497408189\n",
            "Loss 0.14832083619029016\n",
            "Loss 0.16023923516201466\n",
            "Loss 0.14690256968279505\n",
            "Loss 0.15637959452796693\n",
            "Loss 0.1661981792848368\n",
            "Loss 0.16207443180225692\n",
            "Loss 0.1517756055942809\n",
            "Loss 0.14643580640771478\n",
            "Epoch 8 Loss: 0.15583924671850674\n",
            "Loss 0.1529704153547729\n",
            "Loss 0.144625629423144\n",
            "Loss 0.16029310220873236\n",
            "Loss 0.16324810497319267\n",
            "Loss 0.14968592506009148\n",
            "Loss 0.13147501346049784\n",
            "Loss 0.14126674296942485\n",
            "Loss 0.14509899646938418\n",
            "Loss 0.13570425527960706\n",
            "Loss 0.14635420126666351\n",
            "Epoch 9 Loss: 0.14707223864655108\n"
          ]
        },
        {
          "output_type": "execute_result",
          "data": {
            "text/plain": [
              "<__main__.ScratchCNNClassifier at 0x7f341cba3a10>"
            ]
          },
          "metadata": {},
          "execution_count": 227
        }
      ]
    },
    {
      "cell_type": "code",
      "metadata": {
        "id": "-r6heT1hY0go",
        "colab": {
          "base_uri": "https://localhost:8080/",
          "height": 497
        },
        "outputId": "09aec122-6306-4848-ea6f-852a2d6b0325"
      },
      "source": [
        "plot_learning_curve(model.train_loss)"
      ],
      "execution_count": 230,
      "outputs": [
        {
          "output_type": "display_data",
          "data": {
            "image/png": "[encoded data removed]",
            "text/plain": [
              "<Figure size 1152x576 with 1 Axes>"
            ]
          },
          "metadata": {
            "needs_background": "light"
          }
        }
      ]
    }
  ]
}