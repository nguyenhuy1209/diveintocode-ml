{
  "nbformat": 4,
  "nbformat_minor": 0,
  "metadata": {
    "colab": {
      "name": "sprint3.ipynb",
      "provenance": [],
      "collapsed_sections": []
    },
    "kernelspec": {
      "name": "python3",
      "display_name": "Python 3"
    },
    "language_info": {
      "name": "python"
    }
  },
  "cells": [
    {
      "cell_type": "code",
      "metadata": {
        "id": "MK_HUGbT64PY",
        "colab": {
          "base_uri": "https://localhost:8080/"
        },
        "outputId": "c3495061-8170-4b93-804e-e98a420e21e3"
      },
      "source": [
        "import numpy as np\n",
        "from google.colab import drive\n",
        "import pandas as pd\n",
        "drive.mount('/content/drive')\n",
        "import matplotlib.pyplot as plt\n",
        "%matplotlib inline"
      ],
      "execution_count": null,
      "outputs": [
        {
          "output_type": "stream",
          "text": [
            "Drive already mounted at /content/drive; to attempt to forcibly remount, call drive.mount(\"/content/drive\", force_remount=True).\n"
          ],
          "name": "stdout"
        }
      ]
    },
    {
      "cell_type": "code",
      "metadata": {
        "id": "IrDrRNdiH3qK"
      },
      "source": [
        "path_to_data = \"/content/drive/MyDrive/Colab Notebooks/DIVEINTOCODE/Data/train.csv\""
      ],
      "execution_count": null,
      "outputs": []
    },
    {
      "cell_type": "code",
      "metadata": {
        "id": "DoN7h9-F5lgB"
      },
      "source": [
        "class ScratchLinearRegression():\n",
        "    \"\"\"\n",
        "    Scratch implementation of linear regression\n",
        "    \n",
        "    Parameters\n",
        "    ----------\n",
        "    num_iter : int\n",
        "      Number of iterations\n",
        "    lr : float\n",
        "      Learning rate\n",
        "    no_bias : bool\n",
        "      True if no bias term is included\n",
        "    verbose : bool\n",
        "      True to output the learning process\n",
        "    \n",
        "    Attributes\n",
        "    ----------\n",
        "    self.coef_ : The following form of ndarray, shape (n_features,)\n",
        "      Parameters\n",
        "    self.loss : The following form of ndarray, shape (self.iter,)\n",
        "      Record losses on training data\n",
        "    self.val_loss : The following form of ndarray, shape (self.iter,)\n",
        "      Record loss on validation data\n",
        "    \"\"\"\n",
        "    \n",
        "    def __init__(self, num_iter, lr, no_bias, verbose, random_state=0):\n",
        "      # Record hyperparameters as attributes\n",
        "      self.iter = num_iter\n",
        "      self.lr = lr\n",
        "      self.no_bias = no_bias\n",
        "      self.verbose = verbose\n",
        "      self.random_state = 0\n",
        "      # Prepare an array to record the loss\n",
        "      self.loss = np.zeros(self.iter)\n",
        "      self.val_loss = np.zeros(self.iter)\n",
        "        \n",
        "    def _linear_hypothesis(self, X):\n",
        "      \"\"\"\n",
        "      Compute a linear hypothetical function\n",
        "      Parameters\n",
        "      ----------\n",
        "      X : The following forms of ndarray, shape (n_samples, n_features)\n",
        "        Training data\n",
        "      Returns\n",
        "      -------\n",
        "        The following form of ndarray, shape (n_samples, 1)\n",
        "        Estimated result by linear hypothetical function\n",
        "      \"\"\"\n",
        "      parameters = np.insert(self.coef_, 0, self.bias_, axis=0)\n",
        "      # print(self.coef_)\n",
        "      # print(self.bias_)\n",
        "      h = np.matmul(X, parameters.T)\n",
        "      return h\n",
        "\n",
        "    def _gradient_descent(self, X, y):\n",
        "      \"\"\"\n",
        "      Write a description\n",
        "      \"\"\"\n",
        "      m = X.shape[0]\n",
        "\n",
        "      parameters = np.insert(self.coef_, 0, self.bias_, axis=0)\n",
        "      y_pred = self._linear_hypothesis(X)\n",
        "      grad = 1/m * np.matmul( np.subtract(y_pred,y).T , X )\n",
        "      self.bias_ = self.bias_ - self.lr*grad[0]\n",
        "      self.coef_ = self.coef_ - self.lr*grad[1:]\n",
        "\n",
        "    def _loss_function(self, X, y):\n",
        "      m = y.shape[0]\n",
        "      parameters = np.insert(self.coef_, 0, self.bias_, axis=0)\n",
        "      y_pred = self._linear_hypothesis(X)\n",
        "      return 1/(2*m) * np.sum( np.power(np.subtract(y_pred,y), 2) )\n",
        "\n",
        "    def _linear_combination(self, X):\n",
        "        bias = np.ones(X.shape[0]) if not self.no_bias else np.zeros(X.shape[0])\n",
        "        return np.concatenate([bias.reshape(-1, 1), X], axis=1)\n",
        "\n",
        "    def fit(self, X, y, X_val=None, y_val=None):\n",
        "      \"\"\"\n",
        "      Learn linear regression. If validation data is entered, the loss and accuracy for it are also calculated for each iteration.\n",
        "      Parameters\n",
        "      ----------\n",
        "      X : The following forms of ndarray, shape (n_samples, n_features)\n",
        "          Features of training data\n",
        "      y : The following form of ndarray, shape (n_samples,)\n",
        "          Correct answer value of training data\n",
        "      X_val : The following forms of ndarray, shape (n_samples, n_features)\n",
        "          Features of verification data\n",
        "      y_val : The following form of ndarray, shape (n_samples,)\n",
        "          Correct value of verification data\n",
        "      \"\"\"\n",
        "      n_samples = X.shape[0]\n",
        "      n_features = X.shape[1]\n",
        "\n",
        "      # Add bias\n",
        "      X = self._linear_combination(X)\n",
        "      if X_val is not None:\n",
        "          X_val = self._linear_combination(X_val)\n",
        "\n",
        "      # Init thetas\n",
        "      np.random.seed(self.random_state)\n",
        "      self.coef_ = np.random.randn(X.shape[1]-1)\n",
        "      self.bias_ = np.random.randn(1)\n",
        "\n",
        "      for i in range(self.iter):\n",
        "          self._gradient_descent(X, y)\n",
        "\n",
        "          self.loss[i] = self._loss_function(X, y)\n",
        "          if X_val is not None and y_val is not None:\n",
        "              self.val_loss[i] = self._loss_function(X_val, y_val)\n",
        "          \n",
        "          if self.verbose:\n",
        "            if not self.no_bias:\n",
        "              print(f'iteration: {i} loss: {self.loss[i]} theta: {self.bias_.tolist()+self.coef_.tolist()}')\n",
        "            else:\n",
        "              print(f'iteration: {i} loss: {self.loss[i]} theta: {self.coef_}')\n",
        "        \n",
        "    def predict(self, X):\n",
        "      \"\"\"\n",
        "      Estimate using linear regression.\n",
        "      Parameters\n",
        "      ----------\n",
        "      X : The following forms of ndarray, shape (n_samples, n_features)\n",
        "          sample\n",
        "      Returns\n",
        "      -------\n",
        "          The following form of ndarray, shape (n_samples, 1)\n",
        "          Estimated result by linear regression\n",
        "      \"\"\"\n",
        "      X = self._linear_combination(X)\n",
        "      return self._linear_hypothesis(X)\n",
        "\n",
        "def MSE(y_pred, y):\n",
        "  \"\"\"\n",
        "  Calculation of mean square error\n",
        "  Parameters\n",
        "  ----------\n",
        "  y_pred : 次の形のndarray, shape (n_samples,)\n",
        "    Estimated value\n",
        "  y : 次の形のndarray, shape (n_samples,)\n",
        "    Correct answer value\n",
        "  Returns\n",
        "  ----------\n",
        "  mse : numpy.float\n",
        "    Mean squared error\n",
        "  \"\"\"\n",
        "  m = y.shape[0]\n",
        "  mse = 1/m* np.sum( np.power(np.subtract(y_pred,y), 2) )\n",
        "  return mse"
      ],
      "execution_count": null,
      "outputs": []
    },
    {
      "cell_type": "markdown",
      "metadata": {
        "id": "GE5o5yZx-LaJ"
      },
      "source": [
        "### **Problem 6**\n",
        "\n",
        "### Learning and estimation"
      ]
    },
    {
      "cell_type": "code",
      "metadata": {
        "id": "O3jRj32_JKlb"
      },
      "source": [
        "from sklearn.model_selection import train_test_split\n",
        "from sklearn.preprocessing import StandardScaler\n",
        "\n",
        "def preprocess(X, y):\n",
        "    X_train, X_val, y_train, y_val = train_test_split(X, y, test_size=0.2, random_state=0)\n",
        "    scaler = StandardScaler()\n",
        "    X_train = scaler.fit_transform(X_train)\n",
        "    X_val = scaler.transform(X_val)\n",
        "\n",
        "    return X_train, X_val, y_train, y_val\n",
        "\n",
        "def train_and_validate(X_train, X_val, y_train, y_val, model, model_name):\n",
        "    model.fit(X_train, y_train)\n",
        "    y_pred = model.predict(X_val)\n",
        "    print(f\"MSE of {model_name}: {MSE(y_pred, y_val)}\")"
      ],
      "execution_count": null,
      "outputs": []
    },
    {
      "cell_type": "markdown",
      "metadata": {
        "id": "jI0ori2K-Ucd"
      },
      "source": [
        "### Load Housing dataset "
      ]
    },
    {
      "cell_type": "code",
      "metadata": {
        "id": "zwO0T0x7IOD5",
        "colab": {
          "base_uri": "https://localhost:8080/",
          "height": 253
        },
        "outputId": "4ccb09a2-777b-432d-b4e2-dd54327206ef"
      },
      "source": [
        "data = pd.read_csv(path_to_data)\n",
        "data.head()"
      ],
      "execution_count": null,
      "outputs": [
        {
          "output_type": "execute_result",
          "data": {
            "text/html": [
              "<div>\n",
              "<style scoped>\n",
              "    .dataframe tbody tr th:only-of-type {\n",
              "        vertical-align: middle;\n",
              "    }\n",
              "\n",
              "    .dataframe tbody tr th {\n",
              "        vertical-align: top;\n",
              "    }\n",
              "\n",
              "    .dataframe thead th {\n",
              "        text-align: right;\n",
              "    }\n",
              "</style>\n",
              "<table border=\"1\" class=\"dataframe\">\n",
              "  <thead>\n",
              "    <tr style=\"text-align: right;\">\n",
              "      <th></th>\n",
              "      <th>Id</th>\n",
              "      <th>MSSubClass</th>\n",
              "      <th>MSZoning</th>\n",
              "      <th>LotFrontage</th>\n",
              "      <th>LotArea</th>\n",
              "      <th>Street</th>\n",
              "      <th>Alley</th>\n",
              "      <th>LotShape</th>\n",
              "      <th>LandContour</th>\n",
              "      <th>Utilities</th>\n",
              "      <th>LotConfig</th>\n",
              "      <th>LandSlope</th>\n",
              "      <th>Neighborhood</th>\n",
              "      <th>Condition1</th>\n",
              "      <th>Condition2</th>\n",
              "      <th>BldgType</th>\n",
              "      <th>HouseStyle</th>\n",
              "      <th>OverallQual</th>\n",
              "      <th>OverallCond</th>\n",
              "      <th>YearBuilt</th>\n",
              "      <th>YearRemodAdd</th>\n",
              "      <th>RoofStyle</th>\n",
              "      <th>RoofMatl</th>\n",
              "      <th>Exterior1st</th>\n",
              "      <th>Exterior2nd</th>\n",
              "      <th>MasVnrType</th>\n",
              "      <th>MasVnrArea</th>\n",
              "      <th>ExterQual</th>\n",
              "      <th>ExterCond</th>\n",
              "      <th>Foundation</th>\n",
              "      <th>BsmtQual</th>\n",
              "      <th>BsmtCond</th>\n",
              "      <th>BsmtExposure</th>\n",
              "      <th>BsmtFinType1</th>\n",
              "      <th>BsmtFinSF1</th>\n",
              "      <th>BsmtFinType2</th>\n",
              "      <th>BsmtFinSF2</th>\n",
              "      <th>BsmtUnfSF</th>\n",
              "      <th>TotalBsmtSF</th>\n",
              "      <th>Heating</th>\n",
              "      <th>...</th>\n",
              "      <th>CentralAir</th>\n",
              "      <th>Electrical</th>\n",
              "      <th>1stFlrSF</th>\n",
              "      <th>2ndFlrSF</th>\n",
              "      <th>LowQualFinSF</th>\n",
              "      <th>GrLivArea</th>\n",
              "      <th>BsmtFullBath</th>\n",
              "      <th>BsmtHalfBath</th>\n",
              "      <th>FullBath</th>\n",
              "      <th>HalfBath</th>\n",
              "      <th>BedroomAbvGr</th>\n",
              "      <th>KitchenAbvGr</th>\n",
              "      <th>KitchenQual</th>\n",
              "      <th>TotRmsAbvGrd</th>\n",
              "      <th>Functional</th>\n",
              "      <th>Fireplaces</th>\n",
              "      <th>FireplaceQu</th>\n",
              "      <th>GarageType</th>\n",
              "      <th>GarageYrBlt</th>\n",
              "      <th>GarageFinish</th>\n",
              "      <th>GarageCars</th>\n",
              "      <th>GarageArea</th>\n",
              "      <th>GarageQual</th>\n",
              "      <th>GarageCond</th>\n",
              "      <th>PavedDrive</th>\n",
              "      <th>WoodDeckSF</th>\n",
              "      <th>OpenPorchSF</th>\n",
              "      <th>EnclosedPorch</th>\n",
              "      <th>3SsnPorch</th>\n",
              "      <th>ScreenPorch</th>\n",
              "      <th>PoolArea</th>\n",
              "      <th>PoolQC</th>\n",
              "      <th>Fence</th>\n",
              "      <th>MiscFeature</th>\n",
              "      <th>MiscVal</th>\n",
              "      <th>MoSold</th>\n",
              "      <th>YrSold</th>\n",
              "      <th>SaleType</th>\n",
              "      <th>SaleCondition</th>\n",
              "      <th>SalePrice</th>\n",
              "    </tr>\n",
              "  </thead>\n",
              "  <tbody>\n",
              "    <tr>\n",
              "      <th>0</th>\n",
              "      <td>1</td>\n",
              "      <td>60</td>\n",
              "      <td>RL</td>\n",
              "      <td>65.0</td>\n",
              "      <td>8450</td>\n",
              "      <td>Pave</td>\n",
              "      <td>NaN</td>\n",
              "      <td>Reg</td>\n",
              "      <td>Lvl</td>\n",
              "      <td>AllPub</td>\n",
              "      <td>Inside</td>\n",
              "      <td>Gtl</td>\n",
              "      <td>CollgCr</td>\n",
              "      <td>Norm</td>\n",
              "      <td>Norm</td>\n",
              "      <td>1Fam</td>\n",
              "      <td>2Story</td>\n",
              "      <td>7</td>\n",
              "      <td>5</td>\n",
              "      <td>2003</td>\n",
              "      <td>2003</td>\n",
              "      <td>Gable</td>\n",
              "      <td>CompShg</td>\n",
              "      <td>VinylSd</td>\n",
              "      <td>VinylSd</td>\n",
              "      <td>BrkFace</td>\n",
              "      <td>196.0</td>\n",
              "      <td>Gd</td>\n",
              "      <td>TA</td>\n",
              "      <td>PConc</td>\n",
              "      <td>Gd</td>\n",
              "      <td>TA</td>\n",
              "      <td>No</td>\n",
              "      <td>GLQ</td>\n",
              "      <td>706</td>\n",
              "      <td>Unf</td>\n",
              "      <td>0</td>\n",
              "      <td>150</td>\n",
              "      <td>856</td>\n",
              "      <td>GasA</td>\n",
              "      <td>...</td>\n",
              "      <td>Y</td>\n",
              "      <td>SBrkr</td>\n",
              "      <td>856</td>\n",
              "      <td>854</td>\n",
              "      <td>0</td>\n",
              "      <td>1710</td>\n",
              "      <td>1</td>\n",
              "      <td>0</td>\n",
              "      <td>2</td>\n",
              "      <td>1</td>\n",
              "      <td>3</td>\n",
              "      <td>1</td>\n",
              "      <td>Gd</td>\n",
              "      <td>8</td>\n",
              "      <td>Typ</td>\n",
              "      <td>0</td>\n",
              "      <td>NaN</td>\n",
              "      <td>Attchd</td>\n",
              "      <td>2003.0</td>\n",
              "      <td>RFn</td>\n",
              "      <td>2</td>\n",
              "      <td>548</td>\n",
              "      <td>TA</td>\n",
              "      <td>TA</td>\n",
              "      <td>Y</td>\n",
              "      <td>0</td>\n",
              "      <td>61</td>\n",
              "      <td>0</td>\n",
              "      <td>0</td>\n",
              "      <td>0</td>\n",
              "      <td>0</td>\n",
              "      <td>NaN</td>\n",
              "      <td>NaN</td>\n",
              "      <td>NaN</td>\n",
              "      <td>0</td>\n",
              "      <td>2</td>\n",
              "      <td>2008</td>\n",
              "      <td>WD</td>\n",
              "      <td>Normal</td>\n",
              "      <td>208500</td>\n",
              "    </tr>\n",
              "    <tr>\n",
              "      <th>1</th>\n",
              "      <td>2</td>\n",
              "      <td>20</td>\n",
              "      <td>RL</td>\n",
              "      <td>80.0</td>\n",
              "      <td>9600</td>\n",
              "      <td>Pave</td>\n",
              "      <td>NaN</td>\n",
              "      <td>Reg</td>\n",
              "      <td>Lvl</td>\n",
              "      <td>AllPub</td>\n",
              "      <td>FR2</td>\n",
              "      <td>Gtl</td>\n",
              "      <td>Veenker</td>\n",
              "      <td>Feedr</td>\n",
              "      <td>Norm</td>\n",
              "      <td>1Fam</td>\n",
              "      <td>1Story</td>\n",
              "      <td>6</td>\n",
              "      <td>8</td>\n",
              "      <td>1976</td>\n",
              "      <td>1976</td>\n",
              "      <td>Gable</td>\n",
              "      <td>CompShg</td>\n",
              "      <td>MetalSd</td>\n",
              "      <td>MetalSd</td>\n",
              "      <td>None</td>\n",
              "      <td>0.0</td>\n",
              "      <td>TA</td>\n",
              "      <td>TA</td>\n",
              "      <td>CBlock</td>\n",
              "      <td>Gd</td>\n",
              "      <td>TA</td>\n",
              "      <td>Gd</td>\n",
              "      <td>ALQ</td>\n",
              "      <td>978</td>\n",
              "      <td>Unf</td>\n",
              "      <td>0</td>\n",
              "      <td>284</td>\n",
              "      <td>1262</td>\n",
              "      <td>GasA</td>\n",
              "      <td>...</td>\n",
              "      <td>Y</td>\n",
              "      <td>SBrkr</td>\n",
              "      <td>1262</td>\n",
              "      <td>0</td>\n",
              "      <td>0</td>\n",
              "      <td>1262</td>\n",
              "      <td>0</td>\n",
              "      <td>1</td>\n",
              "      <td>2</td>\n",
              "      <td>0</td>\n",
              "      <td>3</td>\n",
              "      <td>1</td>\n",
              "      <td>TA</td>\n",
              "      <td>6</td>\n",
              "      <td>Typ</td>\n",
              "      <td>1</td>\n",
              "      <td>TA</td>\n",
              "      <td>Attchd</td>\n",
              "      <td>1976.0</td>\n",
              "      <td>RFn</td>\n",
              "      <td>2</td>\n",
              "      <td>460</td>\n",
              "      <td>TA</td>\n",
              "      <td>TA</td>\n",
              "      <td>Y</td>\n",
              "      <td>298</td>\n",
              "      <td>0</td>\n",
              "      <td>0</td>\n",
              "      <td>0</td>\n",
              "      <td>0</td>\n",
              "      <td>0</td>\n",
              "      <td>NaN</td>\n",
              "      <td>NaN</td>\n",
              "      <td>NaN</td>\n",
              "      <td>0</td>\n",
              "      <td>5</td>\n",
              "      <td>2007</td>\n",
              "      <td>WD</td>\n",
              "      <td>Normal</td>\n",
              "      <td>181500</td>\n",
              "    </tr>\n",
              "    <tr>\n",
              "      <th>2</th>\n",
              "      <td>3</td>\n",
              "      <td>60</td>\n",
              "      <td>RL</td>\n",
              "      <td>68.0</td>\n",
              "      <td>11250</td>\n",
              "      <td>Pave</td>\n",
              "      <td>NaN</td>\n",
              "      <td>IR1</td>\n",
              "      <td>Lvl</td>\n",
              "      <td>AllPub</td>\n",
              "      <td>Inside</td>\n",
              "      <td>Gtl</td>\n",
              "      <td>CollgCr</td>\n",
              "      <td>Norm</td>\n",
              "      <td>Norm</td>\n",
              "      <td>1Fam</td>\n",
              "      <td>2Story</td>\n",
              "      <td>7</td>\n",
              "      <td>5</td>\n",
              "      <td>2001</td>\n",
              "      <td>2002</td>\n",
              "      <td>Gable</td>\n",
              "      <td>CompShg</td>\n",
              "      <td>VinylSd</td>\n",
              "      <td>VinylSd</td>\n",
              "      <td>BrkFace</td>\n",
              "      <td>162.0</td>\n",
              "      <td>Gd</td>\n",
              "      <td>TA</td>\n",
              "      <td>PConc</td>\n",
              "      <td>Gd</td>\n",
              "      <td>TA</td>\n",
              "      <td>Mn</td>\n",
              "      <td>GLQ</td>\n",
              "      <td>486</td>\n",
              "      <td>Unf</td>\n",
              "      <td>0</td>\n",
              "      <td>434</td>\n",
              "      <td>920</td>\n",
              "      <td>GasA</td>\n",
              "      <td>...</td>\n",
              "      <td>Y</td>\n",
              "      <td>SBrkr</td>\n",
              "      <td>920</td>\n",
              "      <td>866</td>\n",
              "      <td>0</td>\n",
              "      <td>1786</td>\n",
              "      <td>1</td>\n",
              "      <td>0</td>\n",
              "      <td>2</td>\n",
              "      <td>1</td>\n",
              "      <td>3</td>\n",
              "      <td>1</td>\n",
              "      <td>Gd</td>\n",
              "      <td>6</td>\n",
              "      <td>Typ</td>\n",
              "      <td>1</td>\n",
              "      <td>TA</td>\n",
              "      <td>Attchd</td>\n",
              "      <td>2001.0</td>\n",
              "      <td>RFn</td>\n",
              "      <td>2</td>\n",
              "      <td>608</td>\n",
              "      <td>TA</td>\n",
              "      <td>TA</td>\n",
              "      <td>Y</td>\n",
              "      <td>0</td>\n",
              "      <td>42</td>\n",
              "      <td>0</td>\n",
              "      <td>0</td>\n",
              "      <td>0</td>\n",
              "      <td>0</td>\n",
              "      <td>NaN</td>\n",
              "      <td>NaN</td>\n",
              "      <td>NaN</td>\n",
              "      <td>0</td>\n",
              "      <td>9</td>\n",
              "      <td>2008</td>\n",
              "      <td>WD</td>\n",
              "      <td>Normal</td>\n",
              "      <td>223500</td>\n",
              "    </tr>\n",
              "    <tr>\n",
              "      <th>3</th>\n",
              "      <td>4</td>\n",
              "      <td>70</td>\n",
              "      <td>RL</td>\n",
              "      <td>60.0</td>\n",
              "      <td>9550</td>\n",
              "      <td>Pave</td>\n",
              "      <td>NaN</td>\n",
              "      <td>IR1</td>\n",
              "      <td>Lvl</td>\n",
              "      <td>AllPub</td>\n",
              "      <td>Corner</td>\n",
              "      <td>Gtl</td>\n",
              "      <td>Crawfor</td>\n",
              "      <td>Norm</td>\n",
              "      <td>Norm</td>\n",
              "      <td>1Fam</td>\n",
              "      <td>2Story</td>\n",
              "      <td>7</td>\n",
              "      <td>5</td>\n",
              "      <td>1915</td>\n",
              "      <td>1970</td>\n",
              "      <td>Gable</td>\n",
              "      <td>CompShg</td>\n",
              "      <td>Wd Sdng</td>\n",
              "      <td>Wd Shng</td>\n",
              "      <td>None</td>\n",
              "      <td>0.0</td>\n",
              "      <td>TA</td>\n",
              "      <td>TA</td>\n",
              "      <td>BrkTil</td>\n",
              "      <td>TA</td>\n",
              "      <td>Gd</td>\n",
              "      <td>No</td>\n",
              "      <td>ALQ</td>\n",
              "      <td>216</td>\n",
              "      <td>Unf</td>\n",
              "      <td>0</td>\n",
              "      <td>540</td>\n",
              "      <td>756</td>\n",
              "      <td>GasA</td>\n",
              "      <td>...</td>\n",
              "      <td>Y</td>\n",
              "      <td>SBrkr</td>\n",
              "      <td>961</td>\n",
              "      <td>756</td>\n",
              "      <td>0</td>\n",
              "      <td>1717</td>\n",
              "      <td>1</td>\n",
              "      <td>0</td>\n",
              "      <td>1</td>\n",
              "      <td>0</td>\n",
              "      <td>3</td>\n",
              "      <td>1</td>\n",
              "      <td>Gd</td>\n",
              "      <td>7</td>\n",
              "      <td>Typ</td>\n",
              "      <td>1</td>\n",
              "      <td>Gd</td>\n",
              "      <td>Detchd</td>\n",
              "      <td>1998.0</td>\n",
              "      <td>Unf</td>\n",
              "      <td>3</td>\n",
              "      <td>642</td>\n",
              "      <td>TA</td>\n",
              "      <td>TA</td>\n",
              "      <td>Y</td>\n",
              "      <td>0</td>\n",
              "      <td>35</td>\n",
              "      <td>272</td>\n",
              "      <td>0</td>\n",
              "      <td>0</td>\n",
              "      <td>0</td>\n",
              "      <td>NaN</td>\n",
              "      <td>NaN</td>\n",
              "      <td>NaN</td>\n",
              "      <td>0</td>\n",
              "      <td>2</td>\n",
              "      <td>2006</td>\n",
              "      <td>WD</td>\n",
              "      <td>Abnorml</td>\n",
              "      <td>140000</td>\n",
              "    </tr>\n",
              "    <tr>\n",
              "      <th>4</th>\n",
              "      <td>5</td>\n",
              "      <td>60</td>\n",
              "      <td>RL</td>\n",
              "      <td>84.0</td>\n",
              "      <td>14260</td>\n",
              "      <td>Pave</td>\n",
              "      <td>NaN</td>\n",
              "      <td>IR1</td>\n",
              "      <td>Lvl</td>\n",
              "      <td>AllPub</td>\n",
              "      <td>FR2</td>\n",
              "      <td>Gtl</td>\n",
              "      <td>NoRidge</td>\n",
              "      <td>Norm</td>\n",
              "      <td>Norm</td>\n",
              "      <td>1Fam</td>\n",
              "      <td>2Story</td>\n",
              "      <td>8</td>\n",
              "      <td>5</td>\n",
              "      <td>2000</td>\n",
              "      <td>2000</td>\n",
              "      <td>Gable</td>\n",
              "      <td>CompShg</td>\n",
              "      <td>VinylSd</td>\n",
              "      <td>VinylSd</td>\n",
              "      <td>BrkFace</td>\n",
              "      <td>350.0</td>\n",
              "      <td>Gd</td>\n",
              "      <td>TA</td>\n",
              "      <td>PConc</td>\n",
              "      <td>Gd</td>\n",
              "      <td>TA</td>\n",
              "      <td>Av</td>\n",
              "      <td>GLQ</td>\n",
              "      <td>655</td>\n",
              "      <td>Unf</td>\n",
              "      <td>0</td>\n",
              "      <td>490</td>\n",
              "      <td>1145</td>\n",
              "      <td>GasA</td>\n",
              "      <td>...</td>\n",
              "      <td>Y</td>\n",
              "      <td>SBrkr</td>\n",
              "      <td>1145</td>\n",
              "      <td>1053</td>\n",
              "      <td>0</td>\n",
              "      <td>2198</td>\n",
              "      <td>1</td>\n",
              "      <td>0</td>\n",
              "      <td>2</td>\n",
              "      <td>1</td>\n",
              "      <td>4</td>\n",
              "      <td>1</td>\n",
              "      <td>Gd</td>\n",
              "      <td>9</td>\n",
              "      <td>Typ</td>\n",
              "      <td>1</td>\n",
              "      <td>TA</td>\n",
              "      <td>Attchd</td>\n",
              "      <td>2000.0</td>\n",
              "      <td>RFn</td>\n",
              "      <td>3</td>\n",
              "      <td>836</td>\n",
              "      <td>TA</td>\n",
              "      <td>TA</td>\n",
              "      <td>Y</td>\n",
              "      <td>192</td>\n",
              "      <td>84</td>\n",
              "      <td>0</td>\n",
              "      <td>0</td>\n",
              "      <td>0</td>\n",
              "      <td>0</td>\n",
              "      <td>NaN</td>\n",
              "      <td>NaN</td>\n",
              "      <td>NaN</td>\n",
              "      <td>0</td>\n",
              "      <td>12</td>\n",
              "      <td>2008</td>\n",
              "      <td>WD</td>\n",
              "      <td>Normal</td>\n",
              "      <td>250000</td>\n",
              "    </tr>\n",
              "  </tbody>\n",
              "</table>\n",
              "<p>5 rows × 81 columns</p>\n",
              "</div>"
            ],
            "text/plain": [
              "   Id  MSSubClass MSZoning  ...  SaleType  SaleCondition SalePrice\n",
              "0   1          60       RL  ...        WD         Normal    208500\n",
              "1   2          20       RL  ...        WD         Normal    181500\n",
              "2   3          60       RL  ...        WD         Normal    223500\n",
              "3   4          70       RL  ...        WD        Abnorml    140000\n",
              "4   5          60       RL  ...        WD         Normal    250000\n",
              "\n",
              "[5 rows x 81 columns]"
            ]
          },
          "metadata": {
            "tags": []
          },
          "execution_count": 39
        }
      ]
    },
    {
      "cell_type": "code",
      "metadata": {
        "id": "WXq_RgMhKhqs"
      },
      "source": [
        "X, y = data[[\"GrLivArea\", \"YearBuilt\"]].values, data[\"SalePrice\"].values"
      ],
      "execution_count": null,
      "outputs": []
    },
    {
      "cell_type": "markdown",
      "metadata": {
        "id": "4yNz7lgR_IzS"
      },
      "source": [
        "###Compare scratch model and scikit learn model"
      ]
    },
    {
      "cell_type": "code",
      "metadata": {
        "colab": {
          "base_uri": "https://localhost:8080/"
        },
        "id": "FgRwNvrRLIOP",
        "outputId": "e61760b6-c479-4e44-d6af-0249e0d802c4"
      },
      "source": [
        "preprocessed_data = preprocess(X, y)\n",
        "\n",
        "from sklearn.linear_model import SGDRegressor\n",
        "\n",
        "scratch_model = ScratchLinearRegression(100000, 0.001, False, False)\n",
        "sklearn_model = SGDRegressor(max_iter=100000, learning_rate='constant', eta0=0.001, random_state=0)\n",
        "\n",
        "train_and_validate(*preprocessed_data, scratch_model, \"Scratch Linear Regressor\")\n",
        "train_and_validate(*preprocessed_data, sklearn_model, \"Sklearn Linear Regressor\")"
      ],
      "execution_count": null,
      "outputs": [
        {
          "output_type": "stream",
          "text": [
            "MSE of Scratch Linear Regressor: 2942066921.6720386\n",
            "MSE of Sklearn Linear Regressor: 2956606709.7871614\n"
          ],
          "name": "stdout"
        }
      ]
    },
    {
      "cell_type": "markdown",
      "metadata": {
        "id": "WpDCn_aRZxba"
      },
      "source": [
        "###**Problem 7**\n",
        "\n",
        "###Learning curve plot"
      ]
    },
    {
      "cell_type": "code",
      "metadata": {
        "id": "sIERjG3W_VWX"
      },
      "source": [
        "def plot_learning_curve(train_loss, val_loss=None):\n",
        "    plt.figure(figsize=(16, 8))\n",
        "    plt.plot(train_loss, label=\"train_loss\", linewidth=5)\n",
        "    if val_loss is not None:\n",
        "        plt.plot(val_loss, label=\"val_loss\", linewidth=5)\n",
        "    plt.xlabel(\"iter\")\n",
        "    plt.ylabel(\"loss\")\n",
        "    plt.legend()\n",
        "    plt.show()\n",
        "\n",
        "def train_and_visualize(X_train, y_train, X_val, y_val, model, model_name):\n",
        "    model.fit(X_train, y_train, X_val, y_val)\n",
        "    y_pred = model.predict(X_val)\n",
        "    print(f\"MSE of {model_name}: {MSE(y_pred, y_val)}\")\n",
        "\n",
        "    plot_learning_curve(model.loss, model.val_loss)"
      ],
      "execution_count": null,
      "outputs": []
    },
    {
      "cell_type": "markdown",
      "metadata": {
        "id": "xvhBA5tHaYY0"
      },
      "source": [
        "####Learning curve of scratch model"
      ]
    },
    {
      "cell_type": "code",
      "metadata": {
        "colab": {
          "base_uri": "https://localhost:8080/",
          "height": 525
        },
        "id": "LD_Bs_R6Z98v",
        "outputId": "561ab034-21e0-437e-d1b8-877304b4632c"
      },
      "source": [
        "scratch_model = ScratchLinearRegression(10000, 0.001, False, False)\n",
        "X_train, X_val, y_train, y_val = preprocess(X, y)\n",
        "\n",
        "train_and_visualize(X_train, y_train, X_val, y_val, scratch_model, \"Scratch Linear Regressor\")"
      ],
      "execution_count": null,
      "outputs": [
        {
          "output_type": "stream",
          "text": [
            "MSE of Scratch Linear Regressor: 2942013254.740164\n"
          ],
          "name": "stdout"
        },
        {
          "output_type": "display_data",
          "data": {
            "image/png": "[encoded data removed]",
            "text/plain": [
              "<Figure size 1152x576 with 1 Axes>"
            ]
          },
          "metadata": {
            "tags": [],
            "needs_background": "light"
          }
        }
      ]
    },
    {
      "cell_type": "markdown",
      "metadata": {
        "id": "RS66dOolc8NT"
      },
      "source": [
        "###**Problem 8**\n",
        "###(Advance task) Removal of bias term"
      ]
    },
    {
      "cell_type": "code",
      "metadata": {
        "colab": {
          "base_uri": "https://localhost:8080/",
          "height": 525
        },
        "id": "fk-4tq36ciRT",
        "outputId": "ba0d02f9-3ac3-4462-a854-dd41157a40b9"
      },
      "source": [
        "X_train, X_val, y_train, y_val = preprocess(X, y)\n",
        "\n",
        "model_with_bias = ScratchLinearRegression(10000, 0.001, False, False)\n",
        "train_and_visualize(X_train, y_train, X_val, y_val, model_with_bias, \"Scratch model with bias\")"
      ],
      "execution_count": null,
      "outputs": [
        {
          "output_type": "stream",
          "text": [
            "MSE of Scratch model with bias: 2942013254.740164\n"
          ],
          "name": "stdout"
        },
        {
          "output_type": "display_data",
          "data": {
            "image/png": "[encoded data removed]",
            "text/plain": [
              "<Figure size 1152x576 with 1 Axes>"
            ]
          },
          "metadata": {
            "tags": [],
            "needs_background": "light"
          }
        }
      ]
    },
    {
      "cell_type": "code",
      "metadata": {
        "colab": {
          "base_uri": "https://localhost:8080/",
          "height": 525
        },
        "id": "LRjOoClHdP75",
        "outputId": "3a184153-d881-4e44-a6f2-22e3b403995a"
      },
      "source": [
        "model_with_no_bias = ScratchLinearRegression(10000, 0.001, True, False)\n",
        "train_and_visualize(X_train, y_train, X_val, y_val, model_with_no_bias, \"Scratch model with no bias\")"
      ],
      "execution_count": null,
      "outputs": [
        {
          "output_type": "stream",
          "text": [
            "MSE of Scratch model with no bias: 35742307239.01329\n"
          ],
          "name": "stdout"
        },
        {
          "output_type": "display_data",
          "data": {
            "image/png": "[encoded data removed]",
            "text/plain": [
              "<Figure size 1152x576 with 1 Axes>"
            ]
          },
          "metadata": {
            "tags": [],
            "needs_background": "light"
          }
        }
      ]
    },
    {
      "cell_type": "markdown",
      "metadata": {
        "id": "scfn60-SZ_Ko"
      },
      "source": [
        "Without bias, the decision boundary (hypothesis function) will go around the origin coordinate, example in a 2-dimension plane: (0,0). This requires your data must go through the origin coordinate, or else the decision boundary hyperplane may not fit well, or it must required data normalization."
      ]
    },
    {
      "cell_type": "markdown",
      "metadata": {
        "id": "WPhNKYdEbul2"
      },
      "source": [
        "###**Problem 9**\n",
        "\n",
        "###(Advance task) Multidimensional feature quantity"
      ]
    },
    {
      "cell_type": "code",
      "metadata": {
        "id": "S0dTU3vudcKq"
      },
      "source": [
        "def polynomial_transform(X):\n",
        "  num_observation = X.shape[0]\n",
        "  num_features = X.shape[1]\n",
        "\n",
        "  X = np.array( [[ np.power(X[i][j], 3) for j in range(num_features) ] for i in range(num_observation) ] )\n",
        "  return X"
      ],
      "execution_count": null,
      "outputs": []
    },
    {
      "cell_type": "code",
      "metadata": {
        "id": "nrd5yZfqgqrF"
      },
      "source": [
        "X_poly = polynomial_transform(X)"
      ],
      "execution_count": null,
      "outputs": []
    },
    {
      "cell_type": "code",
      "metadata": {
        "colab": {
          "base_uri": "https://localhost:8080/",
          "height": 525
        },
        "id": "AGsqA3vgkfe0",
        "outputId": "a92142fa-bb53-454d-d550-26f4bab951e0"
      },
      "source": [
        "X_train, X_val, y_train, y_val = preprocess(X_poly, y)\n",
        "scaler = StandardScaler()\n",
        "X_train = scaler.fit_transform(X_train)\n",
        "X_val = scaler.transform(X_val)\n",
        "model_poly = ScratchLinearRegression(10000, 0.001, False, False)\n",
        "train_and_visualize(X_train, y_train, X_val, y_val, model_poly, \"Scratch model polynomial features\")"
      ],
      "execution_count": 77,
      "outputs": [
        {
          "output_type": "stream",
          "text": [
            "MSE of Scratch model polynomial features: 7815903717.126525\n"
          ],
          "name": "stdout"
        },
        {
          "output_type": "display_data",
          "data": {
            "image/png": "[encoded data removed]",
            "text/plain": [
              "<Figure size 1152x576 with 1 Axes>"
            ]
          },
          "metadata": {
            "tags": [],
            "needs_background": "light"
          }
        }
      ]
    },
    {
      "cell_type": "markdown",
      "metadata": {
        "id": "KvxrdkYAnIjp"
      },
      "source": [
        "The model fitted perfectly on the training set, but failed to fit on the validation set, because the decision boundary is no longer linear but rather more complicated, causing a phenomenon called overfitting."
      ]
    }
  ]
}