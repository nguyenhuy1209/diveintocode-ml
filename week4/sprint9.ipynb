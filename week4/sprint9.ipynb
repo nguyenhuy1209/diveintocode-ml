{
  "nbformat": 4,
  "nbformat_minor": 0,
  "metadata": {
    "colab": {
      "name": "sprint9.ipynb",
      "provenance": [],
      "collapsed_sections": []
    },
    "kernelspec": {
      "name": "python3",
      "display_name": "Python 3"
    },
    "language_info": {
      "name": "python"
    }
  },
  "cells": [
    {
      "cell_type": "code",
      "metadata": {
        "id": "BGtQ_kFcUXiC"
      },
      "source": [
        "import numpy as np"
      ],
      "execution_count": 1,
      "outputs": []
    },
    {
      "cell_type": "markdown",
      "metadata": {
        "id": "cRgQR4DKTkzy"
      },
      "source": [
        "## Download the dataset"
      ]
    },
    {
      "cell_type": "code",
      "metadata": {
        "id": "D1mnQ16_TgVH"
      },
      "source": [
        "from keras.datasets import mnist\n",
        "(X_train, y_train), (X_test, y_test) = mnist.load_data()"
      ],
      "execution_count": 81,
      "outputs": []
    },
    {
      "cell_type": "markdown",
      "metadata": {
        "id": "TQAMx2NRT0Co"
      },
      "source": [
        "## Smoothing"
      ]
    },
    {
      "cell_type": "code",
      "metadata": {
        "id": "EfNTy_0-TwSC"
      },
      "source": [
        "X_train = X_train.reshape(-1, 784)\n",
        "X_test = X_test.reshape(-1, 784)"
      ],
      "execution_count": 83,
      "outputs": []
    },
    {
      "cell_type": "markdown",
      "metadata": {
        "id": "uWOsHga0UNht"
      },
      "source": [
        "## Visualization of image data"
      ]
    },
    {
      "cell_type": "code",
      "metadata": {
        "colab": {
          "base_uri": "https://localhost:8080/",
          "height": 281
        },
        "id": "HugEYUiVT_pM",
        "outputId": "ae0f62a5-bd71-4634-9182-e7387c05fd25"
      },
      "source": [
        "import matplotlib.pyplot as plt\n",
        "%matplotlib inline\n",
        "index = 0\n",
        "image = X_train[index].reshape(28,28)\n",
        "# X_train[index]: (784,)\n",
        "# image: (28, 28)\n",
        "plt.imshow(image, 'gray')\n",
        "plt.title('label : {}'.format(y_train[index]))\n",
        "plt.show()"
      ],
      "execution_count": 84,
      "outputs": [
        {
          "output_type": "display_data",
          "data": {
            "image/png": "[encoded data removed]",
            "text/plain": [
              "<Figure size 432x288 with 1 Axes>"
            ]
          },
          "metadata": {
            "tags": [],
            "needs_background": "light"
          }
        }
      ]
    },
    {
      "cell_type": "code",
      "metadata": {
        "colab": {
          "base_uri": "https://localhost:8080/",
          "height": 281
        },
        "id": "8dArok05UPWH",
        "outputId": "ab610209-0bff-4c9d-fb38-9a53db9665a4"
      },
      "source": [
        "index = 50\n",
        "image = X_train[index].reshape(28,28)\n",
        "image = image.astype(np.float) # Convert to float type\n",
        "image -= 105.35 # Intentionally try to create a negative decimal value\n",
        "plt.imshow(image, 'gray')\n",
        "plt.title('label : {}'.format(y_train[index]))\n",
        "plt.show()\n",
        "# print(image) # Check the value"
      ],
      "execution_count": 85,
      "outputs": [
        {
          "output_type": "display_data",
          "data": {
            "image/png": "[encoded data removed]",
            "text/plain": [
              "<Figure size 432x288 with 1 Axes>"
            ]
          },
          "metadata": {
            "tags": [],
            "needs_background": "light"
          }
        }
      ]
    },
    {
      "cell_type": "code",
      "metadata": {
        "colab": {
          "base_uri": "https://localhost:8080/",
          "height": 282
        },
        "id": "xtMhcj7WUURx",
        "outputId": "38832f8f-d935-4425-da79-0c69bd5670b9"
      },
      "source": [
        "plt.imshow(image, 'gray', vmin = 0, vmax = 255)"
      ],
      "execution_count": 86,
      "outputs": [
        {
          "output_type": "execute_result",
          "data": {
            "text/plain": [
              "<matplotlib.image.AxesImage at 0x7ff8e30fdd90>"
            ]
          },
          "metadata": {
            "tags": []
          },
          "execution_count": 86
        },
        {
          "output_type": "display_data",
          "data": {
            "image/png": "[encoded data removed]",
            "text/plain": [
              "<Figure size 432x288 with 1 Axes>"
            ]
          },
          "metadata": {
            "tags": [],
            "needs_background": "light"
          }
        }
      ]
    },
    {
      "cell_type": "markdown",
      "metadata": {
        "id": "mEQDXpigVFxl"
      },
      "source": [
        "## Preprocessing"
      ]
    },
    {
      "cell_type": "markdown",
      "metadata": {
        "id": "y1JYme2bVJcp"
      },
      "source": [
        "Preprocess X"
      ]
    },
    {
      "cell_type": "code",
      "metadata": {
        "colab": {
          "base_uri": "https://localhost:8080/"
        },
        "id": "Gxe7uSPDUsS2",
        "outputId": "ae24d419-3083-4b66-b3ba-5cfd60fdde33"
      },
      "source": [
        "X_train = X_train.astype(np.float)\n",
        "X_test = X_test.astype(np.float)\n",
        "X_train /= 255\n",
        "X_test /= 255\n",
        "print(X_train.max()) # 1.0\n",
        "print(X_train.min()) # 0.0"
      ],
      "execution_count": 87,
      "outputs": [
        {
          "output_type": "stream",
          "text": [
            "1.0\n",
            "0.0\n"
          ],
          "name": "stdout"
        }
      ]
    },
    {
      "cell_type": "markdown",
      "metadata": {
        "id": "ZUCFBZ0JVp_b"
      },
      "source": [
        "Split train - val data"
      ]
    },
    {
      "cell_type": "code",
      "metadata": {
        "colab": {
          "base_uri": "https://localhost:8080/"
        },
        "id": "wvytdbYAVoul",
        "outputId": "01944ddf-8600-4d7e-9921-2a466a9cb70a"
      },
      "source": [
        "from sklearn.model_selection import train_test_split\n",
        "X_train, X_val, y_train, y_val = train_test_split(X_train, y_train, test_size=0.2)\n",
        "print(X_train.shape) # (48000, 784)\n",
        "print(X_val.shape) # (12000, 784)"
      ],
      "execution_count": 88,
      "outputs": [
        {
          "output_type": "stream",
          "text": [
            "(48000, 784)\n",
            "(12000, 784)\n"
          ],
          "name": "stdout"
        }
      ]
    },
    {
      "cell_type": "markdown",
      "metadata": {
        "id": "hZfI7UVgViZV"
      },
      "source": [
        "One-hot encoding Y"
      ]
    },
    {
      "cell_type": "code",
      "metadata": {
        "colab": {
          "base_uri": "https://localhost:8080/"
        },
        "id": "OCvtfwE3Uvpo",
        "outputId": "211b4479-770d-4440-b067-c49b5b174fe3"
      },
      "source": [
        "from sklearn.preprocessing import OneHotEncoder\n",
        "enc = OneHotEncoder(handle_unknown='ignore', sparse=False)\n",
        "y_train_one_hot = enc.fit_transform(y_train[:, np.newaxis])\n",
        "y_val_one_hot = enc.transform(y_val[:, np.newaxis])\n",
        "print(y_train.shape)\n",
        "print(y_train_one_hot.shape) \n",
        "print(y_train_one_hot.dtype)"
      ],
      "execution_count": 89,
      "outputs": [
        {
          "output_type": "stream",
          "text": [
            "(48000,)\n",
            "(48000, 10)\n",
            "float64\n"
          ],
          "name": "stdout"
        }
      ]
    },
    {
      "cell_type": "markdown",
      "metadata": {
        "id": "rALEyaZD7-kR"
      },
      "source": [
        "##**Problem 1 2 3 4 5 is in the implementation of Stratch Neural Network**"
      ]
    },
    {
      "cell_type": "markdown",
      "metadata": {
        "id": "ZXSkuqRzVwMC"
      },
      "source": [
        "##Stratch Neural Network"
      ]
    },
    {
      "cell_type": "code",
      "metadata": {
        "id": "fcsgxFXzWDVS"
      },
      "source": [
        "class GetMiniBatch:\n",
        "    \"\"\"\n",
        "Iterator to get a mini-batch\n",
        "    Parameters\n",
        "    ----------\n",
        "    X : The following forms of ndarray, shape (n_samples, n_features)\n",
        "      Training data\n",
        "    y : The following form of ndarray, shape (n_samples, 1)\n",
        "      Correct answer value\n",
        "    batch_size : int\n",
        "      Batch size\n",
        "    seed : int\n",
        "      NumPy random number seed\n",
        "    \"\"\"\n",
        "    def __init__(self, X, y, batch_size = 20, seed=0):\n",
        "        self.batch_size = batch_size\n",
        "        np.random.seed(seed)\n",
        "        shuffle_index = np.random.permutation(np.arange(X.shape[0]))\n",
        "        self._X = X[shuffle_index]\n",
        "        self._y = y[shuffle_index]\n",
        "        self._stop = np.ceil(X.shape[0]/self.batch_size).astype(np.int)\n",
        "\n",
        "    def __len__(self):\n",
        "        return self._stop\n",
        "\n",
        "    def __getitem__(self,item):\n",
        "        p0 = item*self.batch_size\n",
        "        p1 = item*self.batch_size + self.batch_size\n",
        "        return self._X[p0:p1], self._y[p0:p1]        \n",
        "\n",
        "    def __iter__(self):\n",
        "        self._counter = 0\n",
        "        return self\n",
        "        \n",
        "    def __next__(self):\n",
        "        if self._counter >= self._stop:\n",
        "            raise StopIteration()\n",
        "        p0 = self._counter*self.batch_size\n",
        "        p1 = self._counter*self.batch_size + self.batch_size\n",
        "        self._counter += 1\n",
        "        return self._X[p0:p1], self._y[p0:p1]"
      ],
      "execution_count": 92,
      "outputs": []
    },
    {
      "cell_type": "code",
      "metadata": {
        "id": "MJuP1kcaFx23"
      },
      "source": [
        "def sigmoid_function(X):\n",
        "    return 1 / ( 1 + np.exp(-X) )\n",
        "\n",
        "def hyperbolic_tangent_function(X):\n",
        "    return np.tanh(X)\n",
        "\n",
        "def sigmoid_derivative_function(X):\n",
        "    return (1 - sigmoid_function(X)) * sigmoid_function(X)\n",
        "\n",
        "def hyperbolic_tangent_derivative_function(X):\n",
        "    return 1 - np.power(np.tanh(X),2)\n",
        "\n",
        "def softmax_function(X):\n",
        "    e = np.exp(X)\n",
        "    return e / np.sum(e,\n",
        "                      axis=1).reshape(-1,1)\n",
        "\n",
        "class ScratchSimpleNeuralNetrowkClassifier():\n",
        "    \"\"\"\n",
        "    Simple three-layer neural network classifier\n",
        "    Parameters\n",
        "    ----------\n",
        "    Attributes\n",
        "    ----------\n",
        "    \"\"\"\n",
        "\n",
        "    def _activation_function(self, X):\n",
        "        return self.__ACTIVATION_FUNCTION_DICT[self._activation](X)\n",
        "\n",
        "    def _derivative_function(self, X):\n",
        "        return self.__DERIVATIVE_FUNCTION_DICT[self._activation](X)\n",
        "        \n",
        "    __ACTIVATION_FUNCTION_DICT = {\n",
        "        'sigmoid' :  sigmoid_function,\n",
        "        'tanh'    :  hyperbolic_tangent_function\n",
        "    }\n",
        "\n",
        "    __DERIVATIVE_FUNCTION_DICT = {\n",
        "        'sigmoid' :  sigmoid_derivative_function,\n",
        "        'tanh'    :  hyperbolic_tangent_derivative_function\n",
        "    }\n",
        "\n",
        "    def __init__(self, hidden_layer_sizes=(400,200), activation='sigmoid', epoch=20, batch_size=20, learning_rate=0.01, sigma=0.01, verbose = True):\n",
        "        self.verbose = verbose\n",
        "        self._hidden_layer_sizes = hidden_layer_sizes\n",
        "        self._activation = activation\n",
        "        self.epoch = epoch\n",
        "        self.batch_size = batch_size\n",
        "        self.lr = learning_rate\n",
        "        self._sigma = sigma\n",
        "\n",
        "    def _init_coefs_intercepts(self, n_features, n_output):\n",
        "        # Init coefs (weights), intercepts(biases)\n",
        "        self.coefs_ = []\n",
        "        self.intercepts_ = []\n",
        "\n",
        "        # First layer of weight and bias\n",
        "        self.coefs_.append(self._init_weight(n_features,self._hidden_layer_sizes[0]))\n",
        "        self.intercepts_.append(self._init_bias(self._hidden_layer_sizes[0]))\n",
        "        \n",
        "        # Middle layers\n",
        "        for i in range(len(self._hidden_layer_sizes)-1):\n",
        "          self.coefs_.append(self._init_weight(self._hidden_layer_sizes[i], self._hidden_layer_sizes[i+1]))\n",
        "          self.intercepts_.append(self._init_bias(self._hidden_layer_sizes[i+1]))\n",
        "\n",
        "        # Last layer of weight and bias\n",
        "        self.coefs_.append(self._init_weight(self._hidden_layer_sizes[-1],n_output))\n",
        "        self.intercepts_.append(self._init_bias(n_output))\n",
        "\n",
        "    def _init_weight(self, num_row, num_col):\n",
        "        W = self._sigma * np.random.randn(num_row, num_col)\n",
        "        return W\n",
        "\n",
        "    def _init_bias(self, size):\n",
        "        bias = self._sigma * np.random.randn(size)\n",
        "        return bias\n",
        "    \n",
        "    def _feed_forward(self, X):\n",
        "        self._layers = []\n",
        "        A = np.dot(X, self.coefs_[0]) + self.intercepts_[0]\n",
        "        Z = self._activation_function(A)\n",
        "        self._layers.append(Z)\n",
        "        for i in range(1, len(self.coefs_)):\n",
        "          A = np.dot(Z, self.coefs_[i]) + self.intercepts_[i]\n",
        "          Z = softmax_function(A) if i == len(self.coefs_)-1 else self._activation_function(A)\n",
        "          self._layers.append(Z)\n",
        "        return Z\n",
        "\n",
        "    def _backpropagation(self, X, y):\n",
        "        for i in range(len(self.coefs_)-1, -1, -1):\n",
        "            # print(self._layers[i].shape)\n",
        "            # print(y.shape)\n",
        "            grad_a       = (self._layers[i]-y)/self.batch_size if i == len(self._layers)-1 else grad_z * self._derivative_function(self._layers[i])\n",
        "            # print(f'grad_a shape: {grad_a.shape}')\n",
        "            grad_bias    = np.sum(grad_a, axis=0)\n",
        "            # print(f'grad_bias shape: {grad_bias.shape}')\n",
        "            # print(np.dot(self._layers[i-1].T, grad_a))\n",
        "            grad_weight  = np.dot(X.T, grad_a) if i == 0 else np.dot(self._layers[i-1].T, grad_a)\n",
        "            # print(f'grad_weight shape: {grad_weight.shape}')\n",
        "            grad_z       = np.dot(grad_a, self.coefs_[i].T)\n",
        "            # print(f'grad_z shape: {grad_z.shape}')\n",
        "            \n",
        "            # Update weigts, biases\n",
        "            # print(self.coefs_[i][0])\n",
        "            # print(self.lr*grad_weight[0])\n",
        "            self.coefs_[i]      -= self.lr*grad_weight\n",
        "            # print(self.coefs_[i][0])\n",
        "            # print()\n",
        "            self.intercepts_[i] -= self.lr*grad_bias\n",
        "\n",
        "    def _loss_function(self, y_true, prob_pred, tol=1e-07):\n",
        "        return -np.mean(y_true*np.log(prob_pred + tol))\n",
        "\n",
        "    def fit(self, X, y, X_val=None, y_val=None):\n",
        "        \"\"\"\n",
        "        Learn a neural network classifier.\n",
        "        Parameters\n",
        "        ----------\n",
        "        X : The following forms of ndarray, shape (n_samples, n_features)\n",
        "            Features of training data\n",
        "        y : The following form of ndarray, shape (n_samples,)\n",
        "            Correct answer value of training data\n",
        "        X_val : The following forms of ndarray, shape (n_samples, n_features)\n",
        "            Features of verification data\n",
        "        y_val : The following form of ndarray, shape (n_samples,)\n",
        "            Correct value of verification data\n",
        "        \"\"\"\n",
        "        n_features  = X.shape[1] # number of features\n",
        "        n_output     = y.shape[1] # number of output classes (number of nodes in the 3rd layer)\n",
        "        \n",
        "        #\n",
        "        self.train_loss = []\n",
        "        self.val_loss = []\n",
        "\n",
        "        # init weights and biases\n",
        "        self._init_coefs_intercepts(n_features, n_output)\n",
        "        \n",
        "        for i in range(self.epoch):\n",
        "          get_mini_batch = GetMiniBatch(X, y, batch_size=self.batch_size)\n",
        "          for index, (X_batch, y_batch) in enumerate(get_mini_batch):\n",
        "              # Feed forward\n",
        "              self._feed_forward(X_batch)\n",
        "              # Back prop\n",
        "              self._backpropagation(X_batch, y_batch)\n",
        "\n",
        "              # print(self.coefs_[0][0][0])\n",
        "\n",
        "          self.train_loss.append(self._loss_function(y, self.predict_proba(X)))\n",
        "          if X_val is not None and y_val is not None:\n",
        "              self.val_loss.append(self._loss_function(y_val, self.predict_proba(X_val)))\n",
        "\n",
        "          if self.verbose:\n",
        "            print(f'epoch: {i}, loss: {self.train_loss[-1]}')\n",
        "\n",
        "        return self\n",
        "\n",
        "    def predict_proba(self, X):\n",
        "        \"\"\"\n",
        "        Estimate using a neural network classifier.\n",
        "        Parameters\n",
        "        ----------\n",
        "        X : The following forms of ndarray, shape (n_samples, n_features)\n",
        "            sample\n",
        "        Returns\n",
        "        -------\n",
        "            The following form of ndarray, shape (n_samples, 1)\n",
        "            Estimated result\n",
        "        \"\"\"\n",
        "        return self._feed_forward(X)\n",
        "\n",
        "    def predict(self, X):\n",
        "        \"\"\"\n",
        "        Estimate using a neural network classifier.\n",
        "        Parameters\n",
        "        ----------\n",
        "        X : The following forms of ndarray, shape (n_samples, n_features)\n",
        "            sample\n",
        "        Returns\n",
        "        -------\n",
        "            The following form of ndarray, shape (n_samples, 1)\n",
        "            Estimated result\n",
        "        \"\"\"\n",
        "        y_proba = self.predict_proba(X)\n",
        "        return np.argmax(y_proba, axis=1)"
      ],
      "execution_count": 138,
      "outputs": []
    },
    {
      "cell_type": "markdown",
      "metadata": {
        "id": "2vOh4DRVitM_"
      },
      "source": [
        "##**Problem 6**\n",
        "##Learning and estimation"
      ]
    },
    {
      "cell_type": "code",
      "metadata": {
        "id": "1aC4imFVjEBQ"
      },
      "source": [
        "from sklearn.metrics import accuracy_score\n",
        "y_val = enc.inverse_transform(y_val_one_hot)\n",
        "y_val = y_val.ravel()"
      ],
      "execution_count": 145,
      "outputs": []
    },
    {
      "cell_type": "markdown",
      "metadata": {
        "id": "rH2jlOx1jX6d"
      },
      "source": [
        "####**Train with the hyperbolic tangent function as the activation function**"
      ]
    },
    {
      "cell_type": "code",
      "metadata": {
        "id": "wU05xdexuDfT",
        "colab": {
          "base_uri": "https://localhost:8080/"
        },
        "outputId": "7544f420-37ba-4317-f8c0-df5bed798198"
      },
      "source": [
        "model_tanh = ScratchSimpleNeuralNetrowkClassifier(activation='tanh', verbose=True)\n",
        "model_tanh.fit(X_train, y_train_one_hot, X_val, y_val_one_hot)"
      ],
      "execution_count": 146,
      "outputs": [
        {
          "output_type": "stream",
          "text": [
            "epoch: 0, loss: 0.06692636703183524\n",
            "epoch: 1, loss: 0.04077880554667709\n",
            "epoch: 2, loss: 0.03460571326346844\n",
            "epoch: 3, loss: 0.031572719451667855\n",
            "epoch: 4, loss: 0.02932048063630939\n",
            "epoch: 5, loss: 0.02748796920225955\n",
            "epoch: 6, loss: 0.025931699357339133\n",
            "epoch: 7, loss: 0.02458600641013818\n",
            "epoch: 8, loss: 0.023373338335320924\n",
            "epoch: 9, loss: 0.022225295397382317\n",
            "epoch: 10, loss: 0.021110714875623132\n",
            "epoch: 11, loss: 0.020025600398574445\n",
            "epoch: 12, loss: 0.018978919801617245\n",
            "epoch: 13, loss: 0.017980782179894083\n",
            "epoch: 14, loss: 0.01703733044757967\n",
            "epoch: 15, loss: 0.016150832137333086\n",
            "epoch: 16, loss: 0.015320909871672613\n",
            "epoch: 17, loss: 0.01454544845645491\n",
            "epoch: 18, loss: 0.01382138450286117\n",
            "epoch: 19, loss: 0.013145400016161176\n"
          ],
          "name": "stdout"
        },
        {
          "output_type": "execute_result",
          "data": {
            "text/plain": [
              "<__main__.ScratchSimpleNeuralNetrowkClassifier at 0x7ff8db194150>"
            ]
          },
          "metadata": {
            "tags": []
          },
          "execution_count": 146
        }
      ]
    },
    {
      "cell_type": "code",
      "metadata": {
        "colab": {
          "base_uri": "https://localhost:8080/"
        },
        "id": "zxz1kDwrjLKn",
        "outputId": "f59288bb-2b93-4be5-9744-d0899c21497e"
      },
      "source": [
        "y_pred_tanh = model_tanh.predict(X_val)\n",
        "accuracy_score(y_pred_tanh, y_val)"
      ],
      "execution_count": 142,
      "outputs": [
        {
          "output_type": "execute_result",
          "data": {
            "text/plain": [
              "0.95175"
            ]
          },
          "metadata": {
            "tags": []
          },
          "execution_count": 142
        }
      ]
    },
    {
      "cell_type": "markdown",
      "metadata": {
        "id": "rRMLJoqRjpSh"
      },
      "source": [
        "####**Train with the sigmoid function as the activation function**"
      ]
    },
    {
      "cell_type": "code",
      "metadata": {
        "colab": {
          "base_uri": "https://localhost:8080/"
        },
        "id": "mTnQiUCJiqbH",
        "outputId": "0a41c503-f2ff-48f5-b0ce-307b3ca42171"
      },
      "source": [
        "model_sigmoid = ScratchSimpleNeuralNetrowkClassifier(activation='sigmoid', verbose=True)\n",
        "model_sigmoid.fit(X_train, y_train_one_hot, X_val, y_val_one_hot)"
      ],
      "execution_count": 147,
      "outputs": [
        {
          "output_type": "stream",
          "text": [
            "epoch: 0, loss: 0.23102131414478314\n",
            "epoch: 1, loss: 0.23094543516218763\n",
            "epoch: 2, loss: 0.2308549592135755\n",
            "epoch: 3, loss: 0.2307303025291711\n",
            "epoch: 4, loss: 0.23051443746295391\n",
            "epoch: 5, loss: 0.22997220749145136\n",
            "epoch: 6, loss: 0.22737421334118862\n",
            "epoch: 7, loss: 0.20203816866459662\n",
            "epoch: 8, loss: 0.1641331718753498\n",
            "epoch: 9, loss: 0.1325288159601931\n",
            "epoch: 10, loss: 0.11639371541597185\n",
            "epoch: 11, loss: 0.09912638982474532\n",
            "epoch: 12, loss: 0.08346568800120904\n",
            "epoch: 13, loss: 0.0758672727952798\n",
            "epoch: 14, loss: 0.07055915993814846\n",
            "epoch: 15, loss: 0.06548762981196286\n",
            "epoch: 16, loss: 0.06059397572465058\n",
            "epoch: 17, loss: 0.056526700495863405\n",
            "epoch: 18, loss: 0.05344481109048684\n",
            "epoch: 19, loss: 0.05105593809266332\n"
          ],
          "name": "stdout"
        },
        {
          "output_type": "execute_result",
          "data": {
            "text/plain": [
              "<__main__.ScratchSimpleNeuralNetrowkClassifier at 0x7ff8cdaf2e10>"
            ]
          },
          "metadata": {
            "tags": []
          },
          "execution_count": 147
        }
      ]
    },
    {
      "cell_type": "code",
      "metadata": {
        "colab": {
          "base_uri": "https://localhost:8080/"
        },
        "id": "__CkvdGFjQCs",
        "outputId": "7235f466-b8ab-4baa-f799-7f4013477a22"
      },
      "source": [
        "y_pred_sigmoid = model_sigmoid.predict(X_val)\n",
        "accuracy_score(y_pred_sigmoid, y_val)"
      ],
      "execution_count": 143,
      "outputs": [
        {
          "output_type": "execute_result",
          "data": {
            "text/plain": [
              "0.84325"
            ]
          },
          "metadata": {
            "tags": []
          },
          "execution_count": 143
        }
      ]
    },
    {
      "cell_type": "markdown",
      "metadata": {
        "id": "LEc3hmXDx-DP"
      },
      "source": [
        "Hyperbolic tangent function seems to provide a better model than the sigmoid function"
      ]
    },
    {
      "cell_type": "markdown",
      "metadata": {
        "id": "BGPiR1ush28r"
      },
      "source": [
        "##**Problem 7**\n",
        "##Learning curve plot"
      ]
    },
    {
      "cell_type": "code",
      "metadata": {
        "id": "zQvWCe3Jh3YI"
      },
      "source": [
        "def plot_learning_curve(train_loss, val_loss=None):\n",
        "    plt.figure(figsize=(16, 8))\n",
        "    plt.plot(train_loss, label=\"train_loss\", linewidth=5)\n",
        "    if val_loss is not None:\n",
        "        plt.plot(val_loss, label=\"val_loss\", linewidth=5)\n",
        "    plt.xlabel(\"epoch\")\n",
        "    plt.ylabel(\"loss\")\n",
        "    plt.legend()\n",
        "    plt.show()"
      ],
      "execution_count": 134,
      "outputs": []
    },
    {
      "cell_type": "markdown",
      "metadata": {
        "id": "ZAHIaalB82WS"
      },
      "source": [
        "Learning curve of the Hyperbolic tangent function model"
      ]
    },
    {
      "cell_type": "code",
      "metadata": {
        "colab": {
          "base_uri": "https://localhost:8080/",
          "height": 500
        },
        "id": "DNxIczOQjtEC",
        "outputId": "d8a0784d-f89c-459b-bb77-f16c504af583"
      },
      "source": [
        "plot_learning_curve(model_tanh.train_loss, model_tanh.val_loss)"
      ],
      "execution_count": 148,
      "outputs": [
        {
          "output_type": "display_data",
          "data": {
            "image/png": "[encoded data removed]",
            "text/plain": [
              "<Figure size 1152x576 with 1 Axes>"
            ]
          },
          "metadata": {
            "tags": [],
            "needs_background": "light"
          }
        }
      ]
    },
    {
      "cell_type": "markdown",
      "metadata": {
        "id": "UFcT_PM689_C"
      },
      "source": [
        "Learning curve of the Sigmoid function model"
      ]
    },
    {
      "cell_type": "code",
      "metadata": {
        "colab": {
          "base_uri": "https://localhost:8080/",
          "height": 497
        },
        "id": "pxV9V_xE9Cio",
        "outputId": "8a6d1563-2edf-4c79-e62a-deca877542e7"
      },
      "source": [
        "plot_learning_curve(model_sigmoid.train_loss, model_sigmoid.val_loss)"
      ],
      "execution_count": 149,
      "outputs": [
        {
          "output_type": "display_data",
          "data": {
            "image/png": "[encoded data removed]",
            "text/plain": [
              "<Figure size 1152x576 with 1 Axes>"
            ]
          },
          "metadata": {
            "tags": [],
            "needs_background": "light"
          }
        }
      ]
    },
    {
      "cell_type": "markdown",
      "metadata": {
        "id": "sKWIGMhV9zo6"
      },
      "source": [
        "The training loss and validation loss is nearly the same, because the model does not having a relatively high accuracy and seems promising to perform better with more epoch."
      ]
    },
    {
      "cell_type": "code",
      "metadata": {
        "colab": {
          "base_uri": "https://localhost:8080/"
        },
        "id": "tAPxpcz9-4r7",
        "outputId": "37e0cb16-6361-4dce-f4ab-25568c1d9738"
      },
      "source": [
        "model_sigmoid2 = ScratchSimpleNeuralNetrowkClassifier(epoch=40, activation='sigmoid', verbose=True)\n",
        "model_sigmoid2.fit(X_train, y_train_one_hot, X_val, y_val_one_hot)"
      ],
      "execution_count": 152,
      "outputs": [
        {
          "output_type": "stream",
          "text": [
            "epoch: 0, loss: 0.23102131414478314\n",
            "epoch: 1, loss: 0.23094543516218763\n",
            "epoch: 2, loss: 0.2308549592135755\n",
            "epoch: 3, loss: 0.2307303025291711\n",
            "epoch: 4, loss: 0.23051443746295391\n",
            "epoch: 5, loss: 0.22997220749145136\n",
            "epoch: 6, loss: 0.22737421334118862\n",
            "epoch: 7, loss: 0.20203816866459662\n",
            "epoch: 8, loss: 0.1641331718753498\n",
            "epoch: 9, loss: 0.1325288159601931\n",
            "epoch: 10, loss: 0.11639371541597185\n",
            "epoch: 11, loss: 0.09912638982474532\n",
            "epoch: 12, loss: 0.08346568800120904\n",
            "epoch: 13, loss: 0.0758672727952798\n",
            "epoch: 14, loss: 0.07055915993814846\n",
            "epoch: 15, loss: 0.06548762981196286\n",
            "epoch: 16, loss: 0.06059397572465058\n",
            "epoch: 17, loss: 0.056526700495863405\n",
            "epoch: 18, loss: 0.05344481109048684\n",
            "epoch: 19, loss: 0.05105593809266332\n",
            "epoch: 20, loss: 0.04906926912620815\n",
            "epoch: 21, loss: 0.04732578260584319\n",
            "epoch: 22, loss: 0.04578385192695958\n",
            "epoch: 23, loss: 0.04445268427229625\n",
            "epoch: 24, loss: 0.043322249616973396\n",
            "epoch: 25, loss: 0.04235509008990001\n",
            "epoch: 26, loss: 0.0415069063054229\n",
            "epoch: 27, loss: 0.0407374271719398\n",
            "epoch: 28, loss: 0.040013098072117594\n",
            "epoch: 29, loss: 0.039308231506244254\n",
            "epoch: 30, loss: 0.038606888230802584\n",
            "epoch: 31, loss: 0.03790514239060345\n",
            "epoch: 32, loss: 0.037211392078588784\n",
            "epoch: 33, loss: 0.036542099909147814\n",
            "epoch: 34, loss: 0.03591376183492339\n",
            "epoch: 35, loss: 0.0353360908542971\n",
            "epoch: 36, loss: 0.034810319711952906\n",
            "epoch: 37, loss: 0.03433160826929788\n",
            "epoch: 38, loss: 0.03389239954500357\n",
            "epoch: 39, loss: 0.03348482845700412\n"
          ],
          "name": "stdout"
        },
        {
          "output_type": "execute_result",
          "data": {
            "text/plain": [
              "<__main__.ScratchSimpleNeuralNetrowkClassifier at 0x7ff8cd27ed90>"
            ]
          },
          "metadata": {
            "tags": []
          },
          "execution_count": 152
        }
      ]
    },
    {
      "cell_type": "code",
      "metadata": {
        "colab": {
          "base_uri": "https://localhost:8080/"
        },
        "id": "TMj2PORpCOUh",
        "outputId": "15dc9a7d-2cca-4aaf-b313-49441c877f04"
      },
      "source": [
        "y_pred_sigmoid2 = model_sigmoid2.predict(X_val)\n",
        "accuracy_score(y_pred_sigmoid2, y_val)"
      ],
      "execution_count": 154,
      "outputs": [
        {
          "output_type": "execute_result",
          "data": {
            "text/plain": [
              "0.9016666666666666"
            ]
          },
          "metadata": {
            "tags": []
          },
          "execution_count": 154
        }
      ]
    },
    {
      "cell_type": "code",
      "metadata": {
        "colab": {
          "base_uri": "https://localhost:8080/",
          "height": 497
        },
        "id": "eO_wdThRCR9s",
        "outputId": "92950610-5ad1-499b-969f-97a3708124d5"
      },
      "source": [
        "plot_learning_curve(model_sigmoid2.train_loss, model_sigmoid2.val_loss)"
      ],
      "execution_count": 155,
      "outputs": [
        {
          "output_type": "display_data",
          "data": {
            "image/png": "[encoded data removed]",
            "text/plain": [
              "<Figure size 1152x576 with 1 Axes>"
            ]
          },
          "metadata": {
            "tags": [],
            "needs_background": "light"
          }
        }
      ]
    },
    {
      "cell_type": "markdown",
      "metadata": {
        "id": "BcXo9orNCdJD"
      },
      "source": [
        "It seems like the Sigmoid function model learns very slow, but the performing can be really promising with more training."
      ]
    },
    {
      "cell_type": "markdown",
      "metadata": {
        "id": "_vfVV3CFidzQ"
      },
      "source": [
        "##**Problem 8**\n",
        "##(Advance assignment) Confirmation of misclassification"
      ]
    },
    {
      "cell_type": "code",
      "metadata": {
        "colab": {
          "base_uri": "https://localhost:8080/",
          "height": 396
        },
        "id": "P-UZG2Q9VTmn",
        "outputId": "544f9d6f-d823-4a54-c84c-19afd22befe9"
      },
      "source": [
        "\"\"\"\n",
        "Display word classification results side by side. The display above the image is \"estimated result / correct answer\".\n",
        "Parameters:\n",
        "----------\n",
        "y_pred : Estimated ndarray (n_samples,)\n",
        "y_val : Correct label of verification data (n_samples,)\n",
        "X_val : Verification data features (n_samples, n_features)\n",
        "\"\"\"\n",
        "import numpy as np\n",
        "import matplotlib.pyplot as plt\n",
        "num = 36 # How many to display\n",
        "\n",
        "true_false = y_pred_tanh==y_val\n",
        "false_list = np.where(true_false==False)[0].astype(np.int)\n",
        "if false_list.shape[0] < num:\n",
        "    num = false_list.shape[0]\n",
        "fig = plt.figure(figsize=(6, 6))\n",
        "fig.subplots_adjust(left=0, right=0.8,  bottom=0, top=0.8, hspace=1, wspace=0.5)\n",
        "for i in range(num):\n",
        "    ax = fig.add_subplot(6, 6, i + 1, xticks=[], yticks=[])\n",
        "    ax.set_title(\"{} / {}\".format(y_pred[false_list[i]],y_val[false_list[i]]))\n",
        "    ax.imshow(X_val.reshape(-1,28,28)[false_list[i]], cmap='gray')"
      ],
      "execution_count": 151,
      "outputs": [
        {
          "output_type": "display_data",
          "data": {
            "image/png": "[encoded data removed]",
            "text/plain": [
              "<Figure size 432x432 with 36 Axes>"
            ]
          },
          "metadata": {
            "tags": []
          }
        }
      ]
    }
  ]
}