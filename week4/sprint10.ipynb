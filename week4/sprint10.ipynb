{
  "nbformat": 4,
  "nbformat_minor": 0,
  "metadata": {
    "colab": {
      "name": "sprint10.ipynb",
      "provenance": [],
      "collapsed_sections": []
    },
    "kernelspec": {
      "display_name": "Python 3",
      "name": "python3"
    },
    "language_info": {
      "name": "python"
    }
  },
  "cells": [
    {
      "cell_type": "code",
      "metadata": {
        "id": "ToIIjU8uKmGh"
      },
      "source": [
        "import numpy as np"
      ],
      "execution_count": 1,
      "outputs": []
    },
    {
      "cell_type": "code",
      "metadata": {
        "id": "HMW1PjuRwgat"
      },
      "source": [
        "class GetMiniBatch:\n",
        "    \"\"\"\n",
        "Iterator to get a mini-batch\n",
        "    Parameters\n",
        "    ----------\n",
        "    X : The following forms of ndarray, shape (n_samples, n_features)\n",
        "      Training data\n",
        "    y : The following form of ndarray, shape (n_samples, 1)\n",
        "      Correct answer value\n",
        "    batch_size : int\n",
        "      Batch size\n",
        "    seed : int\n",
        "      NumPy random number seed\n",
        "    \"\"\"\n",
        "    def __init__(self, X, y, batch_size = 20, seed=0):\n",
        "        self.batch_size = batch_size\n",
        "        np.random.seed(seed)\n",
        "        shuffle_index = np.random.permutation(np.arange(X.shape[0]))\n",
        "        self._X = X[shuffle_index]\n",
        "        self._y = y[shuffle_index]\n",
        "        self._stop = np.ceil(X.shape[0]/self.batch_size).astype(np.int)\n",
        "\n",
        "    def __len__(self):\n",
        "        return self._stop\n",
        "\n",
        "    def __getitem__(self,item):\n",
        "        p0 = item*self.batch_size\n",
        "        p1 = item*self.batch_size + self.batch_size\n",
        "        return self._X[p0:p1], self._y[p0:p1]        \n",
        "\n",
        "    def __iter__(self):\n",
        "        self._counter = 0\n",
        "        return self\n",
        "        \n",
        "    def __next__(self):\n",
        "        if self._counter >= self._stop:\n",
        "            raise StopIteration()\n",
        "        p0 = self._counter*self.batch_size\n",
        "        p1 = self._counter*self.batch_size + self.batch_size\n",
        "        self._counter += 1\n",
        "        return self._X[p0:p1], self._y[p0:p1]"
      ],
      "execution_count": 2,
      "outputs": []
    },
    {
      "cell_type": "markdown",
      "metadata": {
        "id": "aeF6IPjRQzo_"
      },
      "source": [
        "##**Problem 1 to 8**"
      ]
    },
    {
      "cell_type": "code",
      "metadata": {
        "id": "j6mErbF8KzU7"
      },
      "source": [
        "class Initializer:\n",
        "    def __init__(self, sigma):\n",
        "        self.sigma = sigma\n",
        "    def W(self, n_nodes1, n_nodes2):\n",
        "      \"\"\"\n",
        "      Weight initialization\n",
        "      Parameters\n",
        "      ----------\n",
        "      n_nodes1 : int\n",
        "        Number of nodes in the previous layer\n",
        "      n_nodes2 : int\n",
        "        Number of nodes in the later layer\n",
        "      Returns\n",
        "      ----------\n",
        "      W :\n",
        "      \"\"\"\n",
        "      pass\n",
        "    def B(self, n_nodes2):\n",
        "      \"\"\"\n",
        "      Bias initialization\n",
        "      Parameters\n",
        "      ----------\n",
        "      n_nodes2 : int\n",
        "        Number of nodes in the later layer\n",
        "      Returns\n",
        "      ----------\n",
        "      B :\n",
        "      \"\"\"\n",
        "      pass\n",
        "class SimpleInitializer(Initializer):\n",
        "    def W(self, n_nodes1, n_nodes2):\n",
        "        return self.sigma * np.random.randn(n_nodes1, n_nodes2)\n",
        "    \n",
        "    def B(self, n_nodes2):\n",
        "        return self.sigma * np.random.randn(n_nodes2)\n",
        "\n",
        "class XavierInitializer(Initializer):\n",
        "    def W(self, n_nodes1, n_nodes2):\n",
        "        return self.sigma * np.random.normal(scale=np.sqrt(1/(n_nodes1+n_nodes2)), size=(n_nodes1, n_nodes2))\n",
        "\n",
        "    def B(self, n_nodes2):\n",
        "        return self.sigma * np.random.normal(scale=np.sqrt(1/n_nodes2), size=n_nodes2)\n",
        "\n",
        "\n",
        "class HeInitializer(Initializer):\n",
        "    def W(self, n_nodes1, n_nodes2):\n",
        "        return self.sigma * np.random.normal(scale=np.sqrt(2/(n_nodes1+n_nodes2)), size=(n_nodes1, n_nodes2))\n",
        "        # return self.sigma * np.random.normal( size=(n_nodes1, n_nodes2))\n",
        "\n",
        "    def B(self, n_nodes2):\n",
        "        return self.sigma * np.random.normal(scale=np.sqrt(2/n_nodes2), size=n_nodes2)\n",
        "        # return self.sigma * np.random.normal(size=n_nodes2)\n"
      ],
      "execution_count": 3,
      "outputs": []
    },
    {
      "cell_type": "code",
      "metadata": {
        "id": "9e0vglZjK16y"
      },
      "source": [
        "class Optimizer:\n",
        "    def __init__(self, lr):\n",
        "        self.lr = lr\n",
        "    def update(self, layer):\n",
        "        \"\"\"\n",
        "        Update weights and biases for a layer\n",
        "        Parameters\n",
        "        ----------\n",
        "        layer : Instance of the layer before update\n",
        "        \"\"\"\n",
        "        pass\n",
        "\n",
        "class SGD(Optimizer):\n",
        "    def update(self, layer):\n",
        "        layer.B -= self.lr*layer.dB\n",
        "        layer.W -= self.lr*layer.dW\n",
        "\n",
        "class AdaGrad(Optimizer):\n",
        "    def update(self, layer):\n",
        "        layer.H += np.power(layer.dB,2)\n",
        "        layer.B -= self.lr*(np.sqrt(1/(layer.H + 1e-07)))*layer.dB\n",
        "        layer.W -= self.lr*layer.dW"
      ],
      "execution_count": 4,
      "outputs": []
    },
    {
      "cell_type": "code",
      "metadata": {
        "id": "XCngU84CR6-v"
      },
      "source": [
        "class Tanh:\n",
        "    def forward(self, A):\n",
        "      self.A = A\n",
        "      return np.tanh(A)\n",
        "    \n",
        "    def backward(self, dZ):\n",
        "      return dZ * (1 - np.power(np.tanh(self.A),2))\n",
        "\n",
        "class Sigmoid:\n",
        "    def __sigmoid(self, X):\n",
        "      return 1 / ( 1 + np.exp(-X) ) \n",
        "    def forward(self, A):\n",
        "      self.A = A\n",
        "      return self.__sigmoid(A)\n",
        "    \n",
        "    def backward(self, dZ):\n",
        "      return dZ * (1 - self.__sigmoid(self.A)) * self.__sigmoid(self.A)\n",
        "\n",
        "class ReLu:\n",
        "    def forward(self, A):\n",
        "      self.A = A\n",
        "      return np.maximum(A, 0)\n",
        "    \n",
        "    def backward(self, dZ):\n",
        "      return dZ * ((self.A > 0) * 1)\n",
        "\n",
        "class Softmax:\n",
        "    def forward(self, X):\n",
        "      e = np.exp(X)\n",
        "      return e / np.sum(e, axis=1).reshape(-1,1)\n",
        "    \n",
        "    def backward(self, Yhat, Y):\n",
        "      n_batches = Yhat.shape[0]\n",
        "      return (Yhat-Y)/n_batches"
      ],
      "execution_count": 5,
      "outputs": []
    },
    {
      "cell_type": "code",
      "metadata": {
        "id": "Wusti62IKtoW"
      },
      "source": [
        "class FC:\n",
        "    \"\"\"\n",
        "    Number of nodes Fully connected layer from n_nodes1 to n_nodes2\n",
        "    Parameters\n",
        "    ----------\n",
        "    n_nodes1 : int\n",
        "      Number of nodes in the previous layer\n",
        "    n_nodes2 : int\n",
        "      Number of nodes in the later layer\n",
        "    initializer: instance of initialization method\n",
        "    optimizer: instance of optimization method\n",
        "    \"\"\"\n",
        "    def __init__(self, n_nodes1, n_nodes2, initializer, optimizer):\n",
        "        self.optimizer = optimizer\n",
        "        # Initialize\n",
        "        # Initialize self.W and self.B using the initializer method\n",
        "        self.W = initializer.W(n_nodes1, n_nodes2)\n",
        "        self.B = initializer.B(n_nodes2)\n",
        "        if type(optimizer) is AdaGrad:\n",
        "          self.H = 0.0\n",
        "\n",
        "    def forward(self, X):\n",
        "        \"\"\"\n",
        "        forward\n",
        "        Parameters\n",
        "        ----------\n",
        "        X : The following forms of ndarray, shape (batch_size, n_nodes1)\n",
        "            入力\n",
        "        Returns\n",
        "        ----------\n",
        "        A : The following forms of ndarray, shape (batch_size, n_nodes2)\n",
        "            output\n",
        "        \"\"\"\n",
        "        self.Z = X    \n",
        "        A = np.matmul(X, self.W) + self.B\n",
        "        return A\n",
        "\n",
        "    def backward(self, dA):\n",
        "        \"\"\"\n",
        "        Backward\n",
        "        Parameters\n",
        "        ----------\n",
        "        dA : The following forms of ndarray, shape (batch_size, n_nodes2)\n",
        "            Gradient flowing from behind\n",
        "        Returns\n",
        "        ----------\n",
        "        dZ : The following forms of ndarray, shape (batch_size, n_nodes1)\n",
        "            Gradient to flow forward\n",
        "        \"\"\"\n",
        "        self.dB = np.sum(dA, axis=0)\n",
        "        self.dW = np.dot(self.Z.T, dA)\n",
        "        dZ = np.dot(dA, self.W.T)\n",
        "        # update\n",
        "        self = self.optimizer.update(self)\n",
        "        return dZ"
      ],
      "execution_count": 6,
      "outputs": []
    },
    {
      "cell_type": "code",
      "metadata": {
        "id": "e3gGEM_yKIw8"
      },
      "source": [
        "class ScratchDeepNeuralNetrowkClassifier:\n",
        "    def __init__(self, epoch=20, batch_size=20, verbose = True):\n",
        "        self.verbose = verbose\n",
        "        self.epoch = epoch\n",
        "        self.batch_size = batch_size\n",
        "\n",
        "    def _feed_forward(self, X):\n",
        "        A1 = self.FC1.forward(X)\n",
        "        Z1 = self.activation1.forward(A1)\n",
        "        A2 = self.FC2.forward(Z1)\n",
        "        Z2 = self.activation2.forward(A2)\n",
        "        A3 = self.FC3.forward(Z2)\n",
        "        Z3 = self.activation3.forward(A3)\n",
        "        return Z3\n",
        "\n",
        "    def _backpropagation(self, y_proba, y_true):\n",
        "        dA3 = self.activation3.backward(y_proba, y_true)\n",
        "        dZ2 = self.FC3.backward(dA3)\n",
        "        dA2 = self.activation2.backward(dZ2)\n",
        "        dZ1 = self.FC2.backward(dA2)\n",
        "        dA1 = self.activation1.backward(dZ1)\n",
        "        dZ0 = self.FC1.backward(dA1)\n",
        "\n",
        "    def _loss_function(self, y_proba, y_true):\n",
        "        return -np.mean(y_true*np.log(y_proba + 1e-07))\n",
        "\n",
        "    def fit(self, X, y, X_val=None, y_val=None):\n",
        "        pass\n",
        "\n",
        "    def predict_proba(self, X):\n",
        "        return self._feed_forward(X)\n",
        "\n",
        "    def predict(self, X):\n",
        "        y_proba = self.predict_proba(X)\n",
        "        return np.argmax(y_proba, axis=1)"
      ],
      "execution_count": 7,
      "outputs": []
    },
    {
      "cell_type": "markdown",
      "metadata": {
        "id": "vpOZizzO2Wq-"
      },
      "source": [
        "## Download the dataset"
      ]
    },
    {
      "cell_type": "code",
      "metadata": {
        "id": "yGxmH70Jz_lq",
        "colab": {
          "base_uri": "https://localhost:8080/"
        },
        "outputId": "f569c335-a4c8-4680-c1f8-b20f32924dac"
      },
      "source": [
        "from keras.datasets import mnist\n",
        "(X_train, y_train), (X_test, y_test) = mnist.load_data()"
      ],
      "execution_count": 8,
      "outputs": [
        {
          "output_type": "stream",
          "text": [
            "Downloading data from https://storage.googleapis.com/tensorflow/tf-keras-datasets/mnist.npz\n",
            "11493376/11490434 [==============================] - 0s 0us/step\n",
            "11501568/11490434 [==============================] - 0s 0us/step\n"
          ],
          "name": "stdout"
        }
      ]
    },
    {
      "cell_type": "markdown",
      "metadata": {
        "id": "cNQOSMf52liO"
      },
      "source": [
        "## Smoothing"
      ]
    },
    {
      "cell_type": "code",
      "metadata": {
        "id": "FvxO46bn2Y9O"
      },
      "source": [
        "X_train = X_train.reshape(-1, 784)\n",
        "X_test = X_test.reshape(-1, 784)"
      ],
      "execution_count": 9,
      "outputs": []
    },
    {
      "cell_type": "markdown",
      "metadata": {
        "id": "xWNMAdjT2ilF"
      },
      "source": [
        "## Preprocessing"
      ]
    },
    {
      "cell_type": "markdown",
      "metadata": {
        "id": "U9_HPmZi2s7t"
      },
      "source": [
        "Preprocess X"
      ]
    },
    {
      "cell_type": "code",
      "metadata": {
        "colab": {
          "base_uri": "https://localhost:8080/"
        },
        "id": "TdBf31sX2auK",
        "outputId": "0e9a2a51-fe8a-4d0c-fe44-6a5e604de7ba"
      },
      "source": [
        "X_train = X_train.astype(np.float)\n",
        "X_test = X_test.astype(np.float)\n",
        "X_train /= 255\n",
        "X_test /= 255\n",
        "print(X_train.max()) # 1.0\n",
        "print(X_train.min()) # 0.0"
      ],
      "execution_count": 10,
      "outputs": [
        {
          "output_type": "stream",
          "text": [
            "1.0\n",
            "0.0\n"
          ],
          "name": "stdout"
        }
      ]
    },
    {
      "cell_type": "markdown",
      "metadata": {
        "id": "bkXYfLMs2rMA"
      },
      "source": [
        "Split train - val data"
      ]
    },
    {
      "cell_type": "code",
      "metadata": {
        "colab": {
          "base_uri": "https://localhost:8080/"
        },
        "id": "YA1xaDxT2cBQ",
        "outputId": "9899fad8-f1b3-4777-c2ca-f49d9ed093f3"
      },
      "source": [
        "from sklearn.model_selection import train_test_split\n",
        "X_train, X_val, y_train, y_val = train_test_split(X_train, y_train, test_size=0.2)\n",
        "print(X_train.shape) # (48000, 784)\n",
        "print(X_val.shape) # (12000, 784)"
      ],
      "execution_count": 11,
      "outputs": [
        {
          "output_type": "stream",
          "text": [
            "(48000, 784)\n",
            "(12000, 784)\n"
          ],
          "name": "stdout"
        }
      ]
    },
    {
      "cell_type": "markdown",
      "metadata": {
        "id": "YRb8cRdm2vCE"
      },
      "source": [
        "One-hot encoding Y"
      ]
    },
    {
      "cell_type": "code",
      "metadata": {
        "colab": {
          "base_uri": "https://localhost:8080/"
        },
        "id": "sgCogTT72deJ",
        "outputId": "d896104f-f30f-4d64-caa2-4f4da9d5d56f"
      },
      "source": [
        "from sklearn.preprocessing import OneHotEncoder\n",
        "enc = OneHotEncoder(handle_unknown='ignore', sparse=False)\n",
        "y_train_one_hot = enc.fit_transform(y_train[:, np.newaxis])\n",
        "y_val_one_hot = enc.transform(y_val[:, np.newaxis])\n",
        "print(y_train.shape)\n",
        "print(y_train_one_hot.shape) \n",
        "print(y_train_one_hot.dtype)"
      ],
      "execution_count": 12,
      "outputs": [
        {
          "output_type": "stream",
          "text": [
            "(48000,)\n",
            "(48000, 10)\n",
            "float64\n"
          ],
          "name": "stdout"
        }
      ]
    },
    {
      "cell_type": "markdown",
      "metadata": {
        "id": "pZIhqQEV21zC"
      },
      "source": [
        "##**Problem 9**\n",
        "##Learning and estimation"
      ]
    },
    {
      "cell_type": "code",
      "metadata": {
        "id": "NIazIzLT2yyD"
      },
      "source": [
        "from sklearn.metrics import accuracy_score\n",
        "y_val = enc.inverse_transform(y_val_one_hot)\n",
        "y_val = y_val.ravel()"
      ],
      "execution_count": 13,
      "outputs": []
    },
    {
      "cell_type": "code",
      "metadata": {
        "id": "Jhq8zzuwpy4l"
      },
      "source": [
        "import matplotlib.pyplot as plt\n",
        "%matplotlib inline\n",
        "\n",
        "def plot_learning_curve(train_loss, val_loss=None):\n",
        "    plt.figure(figsize=(16, 8))\n",
        "    plt.plot(train_loss, label=\"train_loss\", linewidth=5)\n",
        "    if val_loss is not None:\n",
        "        plt.plot(val_loss, label=\"val_loss\", linewidth=5)\n",
        "    plt.xlabel(\"epoch\")\n",
        "    plt.ylabel(\"loss\")\n",
        "    plt.legend()\n",
        "    plt.show()"
      ],
      "execution_count": 20,
      "outputs": []
    },
    {
      "cell_type": "markdown",
      "metadata": {
        "id": "WXCFTslZJ0F3"
      },
      "source": [
        "##SGD + SimpleInitializer + Sigmoid"
      ]
    },
    {
      "cell_type": "code",
      "metadata": {
        "id": "6ym5KS4FPxSS"
      },
      "source": [
        "class Model1(ScratchDeepNeuralNetrowkClassifier):\n",
        "    def fit(self, X, y, X_val=None, y_val=None):\n",
        "        self.sigma      = 0.01\n",
        "        self.lr         = 0.01\n",
        "        self.n_features = X.shape[1] # number of features\n",
        "        self.n_nodes1   = 400\n",
        "        self.n_nodes2   = 200\n",
        "        self.n_output   = y.shape[1] # number of output classes (number of nodes in the 3rd layer)\n",
        "\n",
        "        self.train_loss = []\n",
        "        self.val_loss = []\n",
        "\n",
        "        # Initialize\n",
        "        optimizer = SGD(self.lr)\n",
        "        self.FC1 = FC(self.n_features, self.n_nodes1, SimpleInitializer(self.sigma), optimizer)\n",
        "        self.activation1 = Sigmoid()\n",
        "        self.FC2 = FC(self.n_nodes1, self.n_nodes2, SimpleInitializer(self.sigma), optimizer)\n",
        "        self.activation2 = Sigmoid()\n",
        "        self.FC3 = FC(self.n_nodes2, self.n_output, SimpleInitializer(self.sigma), optimizer)\n",
        "        self.activation3 = Softmax()\n",
        "\n",
        "        for i in range(self.epoch):\n",
        "            get_mini_batch = GetMiniBatch(X, y, batch_size=self.batch_size)\n",
        "            for index, (X_batch, y_batch) in enumerate(get_mini_batch):\n",
        "                # Forward\n",
        "                Z3 = self._feed_forward(X_batch)\n",
        "\n",
        "                # Backprop\n",
        "                self._backpropagation(Z3, y_batch)\n",
        "\n",
        "            self.train_loss.append(self._loss_function(self.predict_proba(X), y))\n",
        "            if X_val is not None and y_val is not None:\n",
        "                self.val_loss.append(self._loss_function(self.predict_proba(X_val), y_val))\n",
        "\n",
        "            if self.verbose:\n",
        "                print(f'epoch: {i}, loss: {self.train_loss[-1]}')"
      ],
      "execution_count": 15,
      "outputs": []
    },
    {
      "cell_type": "code",
      "metadata": {
        "colab": {
          "base_uri": "https://localhost:8080/"
        },
        "id": "FmxCZaYXKuzS",
        "outputId": "47a08bf6-aa9d-487c-df93-112e69339317"
      },
      "source": [
        "scratch_model_1 = Model1()\n",
        "scratch_model_1.fit(X_train, y_train_one_hot, X_val, y_val_one_hot)"
      ],
      "execution_count": 16,
      "outputs": [
        {
          "output_type": "stream",
          "text": [
            "epoch: 0, loss: 0.23066608130976982\n",
            "epoch: 1, loss: 0.23060750526964074\n",
            "epoch: 2, loss: 0.23053097707173645\n",
            "epoch: 3, loss: 0.2304106753055284\n",
            "epoch: 4, loss: 0.23016222705704598\n",
            "epoch: 5, loss: 0.22936729978537973\n",
            "epoch: 6, loss: 0.22380717225420374\n",
            "epoch: 7, loss: 0.1882018542797245\n",
            "epoch: 8, loss: 0.15394375590101878\n",
            "epoch: 9, loss: 0.12519454383234196\n",
            "epoch: 10, loss: 0.10755938863991482\n",
            "epoch: 11, loss: 0.08669838505116899\n",
            "epoch: 12, loss: 0.07804370215344182\n",
            "epoch: 13, loss: 0.07343669973993198\n",
            "epoch: 14, loss: 0.06978840158124083\n",
            "epoch: 15, loss: 0.06608093257720224\n",
            "epoch: 16, loss: 0.06211469310355349\n",
            "epoch: 17, loss: 0.05835244985514876\n",
            "epoch: 18, loss: 0.05527757018746501\n",
            "epoch: 19, loss: 0.052891378048372927\n"
          ],
          "name": "stdout"
        }
      ]
    },
    {
      "cell_type": "code",
      "metadata": {
        "id": "zIT-3YKrKyZF"
      },
      "source": [
        "y_pred = scratch_model_1.predict(X_val)"
      ],
      "execution_count": 17,
      "outputs": []
    },
    {
      "cell_type": "code",
      "metadata": {
        "colab": {
          "base_uri": "https://localhost:8080/"
        },
        "id": "icpJakp4R3_3",
        "outputId": "50ad4b38-ccff-4a47-ad40-7cb7f170da63"
      },
      "source": [
        "accuracy_score(y_pred, y_val)"
      ],
      "execution_count": 18,
      "outputs": [
        {
          "output_type": "execute_result",
          "data": {
            "text/plain": [
              "0.8420833333333333"
            ]
          },
          "metadata": {
            "tags": []
          },
          "execution_count": 18
        }
      ]
    },
    {
      "cell_type": "code",
      "metadata": {
        "colab": {
          "base_uri": "https://localhost:8080/",
          "height": 497
        },
        "id": "eqTYnAqKqt1v",
        "outputId": "3548062c-de6f-4b52-cbc2-831a2f54a9bb"
      },
      "source": [
        "plot_learning_curve(scratch_model_1.train_loss, scratch_model_1.val_loss)"
      ],
      "execution_count": 21,
      "outputs": [
        {
          "output_type": "display_data",
          "data": {
            "image/png": "[encoded data removed]",
            "text/plain": [
              "<Figure size 1152x576 with 1 Axes>"
            ]
          },
          "metadata": {
            "tags": [],
            "needs_background": "light"
          }
        }
      ]
    },
    {
      "cell_type": "markdown",
      "metadata": {
        "id": "tXzy7GPdJ_70"
      },
      "source": [
        "##SGD + HeInitializer + ReLu"
      ]
    },
    {
      "cell_type": "code",
      "metadata": {
        "id": "ynLjzK29BJoC"
      },
      "source": [
        "class Model2(ScratchDeepNeuralNetrowkClassifier):\n",
        "    def fit(self, X, y, X_val=None, y_val=None):\n",
        "        self.sigma      = 0.01\n",
        "        self.lr         = 0.01\n",
        "        self.n_features = X.shape[1] # number of features\n",
        "        self.n_nodes1   = 400\n",
        "        self.n_nodes2   = 200\n",
        "        self.n_output   = y.shape[1] # number of output classes (number of nodes in the 3rd layer)\n",
        "\n",
        "        self.train_loss = []\n",
        "        self.val_loss = []\n",
        "\n",
        "        # Initialize\n",
        "        optimizer = SGD(self.lr)\n",
        "        self.FC1 = FC(self.n_features, self.n_nodes1, HeInitializer(self.sigma), optimizer)\n",
        "        self.activation1 = ReLu()\n",
        "        self.FC2 = FC(self.n_nodes1, self.n_nodes2, HeInitializer(self.sigma), optimizer)\n",
        "        self.activation2 = ReLu()\n",
        "        self.FC3 = FC(self.n_nodes2, self.n_output, HeInitializer(self.sigma), optimizer)\n",
        "        self.activation3 = Softmax()\n",
        "\n",
        "        for i in range(self.epoch):\n",
        "            get_mini_batch = GetMiniBatch(X, y, batch_size=self.batch_size)\n",
        "            for index, (X_batch, y_batch) in enumerate(get_mini_batch):\n",
        "                # Forward\n",
        "                Z3 = self._feed_forward(X_batch)\n",
        "\n",
        "                # Backprop\n",
        "                self._backpropagation(Z3, y_batch)\n",
        "\n",
        "            self.train_loss.append(self._loss_function(self.predict_proba(X), y))\n",
        "            if X_val is not None and y_val is not None:\n",
        "                self.val_loss.append(self._loss_function(self.predict_proba(X_val), y_val))\n",
        "\n",
        "            if self.verbose:\n",
        "                print(f'epoch: {i}, loss: {self.train_loss[-1]}')"
      ],
      "execution_count": 22,
      "outputs": []
    },
    {
      "cell_type": "code",
      "metadata": {
        "colab": {
          "base_uri": "https://localhost:8080/"
        },
        "id": "LXhBYkWWz8Lc",
        "outputId": "75484ad3-7713-429b-a0ab-8a4b2fe70950"
      },
      "source": [
        "scratch_model_2 = Model2()\n",
        "scratch_model_2.fit(X_train, y_train_one_hot, X_val, y_val_one_hot)"
      ],
      "execution_count": 23,
      "outputs": [
        {
          "output_type": "stream",
          "text": [
            "epoch: 0, loss: 0.23009952560896024\n",
            "epoch: 1, loss: 0.23009969434985472\n",
            "epoch: 2, loss: 0.23009983309661047\n",
            "epoch: 3, loss: 0.23009979640330103\n",
            "epoch: 4, loss: 0.23009970261378132\n",
            "epoch: 5, loss: 0.2300995229122855\n",
            "epoch: 6, loss: 0.2300991162650912\n",
            "epoch: 7, loss: 0.23009786981125113\n",
            "epoch: 8, loss: 0.23009141129017174\n",
            "epoch: 9, loss: 0.22995951225716021\n",
            "epoch: 10, loss: 0.1729871589817959\n",
            "epoch: 11, loss: 0.1439175016061887\n",
            "epoch: 12, loss: 0.12897785915317098\n",
            "epoch: 13, loss: 0.1139199083861546\n",
            "epoch: 14, loss: 0.0713705310935132\n",
            "epoch: 15, loss: 0.046045277891091974\n",
            "epoch: 16, loss: 0.03620918064431919\n",
            "epoch: 17, loss: 0.029680186769297415\n",
            "epoch: 18, loss: 0.024936758734442736\n",
            "epoch: 19, loss: 0.021361713370280765\n"
          ],
          "name": "stdout"
        }
      ]
    },
    {
      "cell_type": "code",
      "metadata": {
        "id": "HxPzJreE_ciL"
      },
      "source": [
        "y_pred = scratch_model_2.predict(X_val)"
      ],
      "execution_count": 24,
      "outputs": []
    },
    {
      "cell_type": "code",
      "metadata": {
        "colab": {
          "base_uri": "https://localhost:8080/"
        },
        "id": "9Ye6IStKK970",
        "outputId": "45abb844-0dc9-443a-cd3a-a8a8a82d7fd0"
      },
      "source": [
        "accuracy_score(y_pred, y_val)"
      ],
      "execution_count": 25,
      "outputs": [
        {
          "output_type": "execute_result",
          "data": {
            "text/plain": [
              "0.93275"
            ]
          },
          "metadata": {
            "tags": []
          },
          "execution_count": 25
        }
      ]
    },
    {
      "cell_type": "code",
      "metadata": {
        "colab": {
          "base_uri": "https://localhost:8080/",
          "height": 497
        },
        "id": "cUqZH_Wiqxv-",
        "outputId": "16ef7266-d7f5-4f70-d779-fc130c30d41a"
      },
      "source": [
        "plot_learning_curve(scratch_model_2.train_loss, scratch_model_2.val_loss)"
      ],
      "execution_count": 26,
      "outputs": [
        {
          "output_type": "display_data",
          "data": {
            "image/png": "[encoded data removed]",
            "text/plain": [
              "<Figure size 1152x576 with 1 Axes>"
            ]
          },
          "metadata": {
            "tags": [],
            "needs_background": "light"
          }
        }
      ]
    },
    {
      "cell_type": "markdown",
      "metadata": {
        "id": "trtlQvKeKFtw"
      },
      "source": [
        "##SGD + XavierInitializer + Tanh"
      ]
    },
    {
      "cell_type": "code",
      "metadata": {
        "id": "uU5OLz3oKMIW"
      },
      "source": [
        "class Model3(ScratchDeepNeuralNetrowkClassifier):\n",
        "    def fit(self, X, y, X_val=None, y_val=None):\n",
        "        self.sigma      = 0.01\n",
        "        self.lr         = 0.01\n",
        "        self.n_features = X.shape[1] # number of features\n",
        "        self.n_nodes1   = 400\n",
        "        self.n_nodes2   = 200\n",
        "        self.n_output   = y.shape[1] # number of output classes (number of nodes in the 3rd layer)\n",
        "\n",
        "        self.train_loss = []\n",
        "        self.val_loss = []\n",
        "\n",
        "        # Initialize\n",
        "        optimizer = SGD(self.lr)\n",
        "        self.FC1 = FC(self.n_features, self.n_nodes1, XavierInitializer(self.sigma), optimizer)\n",
        "        self.activation1 = Tanh()\n",
        "        self.FC2 = FC(self.n_nodes1, self.n_nodes2, XavierInitializer(self.sigma), optimizer)\n",
        "        self.activation2 = Tanh()\n",
        "        self.FC3 = FC(self.n_nodes2, self.n_output, XavierInitializer(self.sigma), optimizer)\n",
        "        self.activation3 = Softmax()\n",
        "\n",
        "        for i in range(self.epoch):\n",
        "            get_mini_batch = GetMiniBatch(X, y, batch_size=self.batch_size)\n",
        "            for index, (X_batch, y_batch) in enumerate(get_mini_batch):\n",
        "                # Forward\n",
        "                Z3 = self._feed_forward(X_batch)\n",
        "\n",
        "                # Backprop\n",
        "                self._backpropagation(Z3, y_batch)\n",
        "\n",
        "            self.train_loss.append(self._loss_function(self.predict_proba(X), y))\n",
        "            if X_val is not None and y_val is not None:\n",
        "                self.val_loss.append(self._loss_function(self.predict_proba(X_val), y_val))\n",
        "\n",
        "            if self.verbose:\n",
        "                print(f'epoch: {i}, loss: {self.train_loss[-1]}')"
      ],
      "execution_count": 27,
      "outputs": []
    },
    {
      "cell_type": "code",
      "metadata": {
        "colab": {
          "base_uri": "https://localhost:8080/"
        },
        "id": "sZtci_wyLAHJ",
        "outputId": "0cfaca41-3324-4670-ba22-deb625ebeab3"
      },
      "source": [
        "scratch_model_3 = Model3()\n",
        "scratch_model_3.fit(X_train, y_train_one_hot, X_val, y_val_one_hot)"
      ],
      "execution_count": 28,
      "outputs": [
        {
          "output_type": "stream",
          "text": [
            "epoch: 0, loss: 0.23009950458946427\n",
            "epoch: 1, loss: 0.23009968329169303\n",
            "epoch: 2, loss: 0.2300998200981513\n",
            "epoch: 3, loss: 0.23009978127069775\n",
            "epoch: 4, loss: 0.23009968726799382\n",
            "epoch: 5, loss: 0.23009951436221263\n",
            "epoch: 6, loss: 0.23009914402244247\n",
            "epoch: 7, loss: 0.23009809396855568\n",
            "epoch: 8, loss: 0.23009291914003735\n",
            "epoch: 9, loss: 0.22995393843542075\n",
            "epoch: 10, loss: 0.17267959049746212\n",
            "epoch: 11, loss: 0.1585085790497863\n",
            "epoch: 12, loss: 0.11324104018275258\n",
            "epoch: 13, loss: 0.0784079497547718\n",
            "epoch: 14, loss: 0.054060297236540024\n",
            "epoch: 15, loss: 0.041190518387478996\n",
            "epoch: 16, loss: 0.035288632222752976\n",
            "epoch: 17, loss: 0.031675001310700696\n",
            "epoch: 18, loss: 0.02930739464969594\n",
            "epoch: 19, loss: 0.027334245648001496\n"
          ],
          "name": "stdout"
        }
      ]
    },
    {
      "cell_type": "code",
      "metadata": {
        "id": "uLXFtMLXLCfv"
      },
      "source": [
        "y_pred = scratch_model_3.predict(X_val)"
      ],
      "execution_count": 29,
      "outputs": []
    },
    {
      "cell_type": "code",
      "metadata": {
        "colab": {
          "base_uri": "https://localhost:8080/"
        },
        "id": "C_ggjQL_KYKk",
        "outputId": "28631831-0b2b-4c1a-be34-df611c144d60"
      },
      "source": [
        "accuracy_score(y_pred, y_val)"
      ],
      "execution_count": 30,
      "outputs": [
        {
          "output_type": "execute_result",
          "data": {
            "text/plain": [
              "0.9171666666666667"
            ]
          },
          "metadata": {
            "tags": []
          },
          "execution_count": 30
        }
      ]
    },
    {
      "cell_type": "code",
      "metadata": {
        "colab": {
          "base_uri": "https://localhost:8080/",
          "height": 497
        },
        "id": "mkZSfBoRqzuz",
        "outputId": "c337d476-ab6a-426a-e289-925367bf4333"
      },
      "source": [
        "plot_learning_curve(scratch_model_3.train_loss, scratch_model_3.val_loss)"
      ],
      "execution_count": 31,
      "outputs": [
        {
          "output_type": "display_data",
          "data": {
            "image/png": "[encoded data removed]",
            "text/plain": [
              "<Figure size 1152x576 with 1 Axes>"
            ]
          },
          "metadata": {
            "tags": [],
            "needs_background": "light"
          }
        }
      ]
    },
    {
      "cell_type": "markdown",
      "metadata": {
        "id": "U0GRWB4wFWAd"
      },
      "source": [
        "##AdaGrad"
      ]
    },
    {
      "cell_type": "code",
      "metadata": {
        "id": "AvcY0LVh6O7O"
      },
      "source": [
        "class Model4(ScratchDeepNeuralNetrowkClassifier):\n",
        "    def fit(self, X, y, X_val=None, y_val=None):\n",
        "        self.sigma      = 0.01\n",
        "        self.lr         = 0.01\n",
        "        self.n_features = X.shape[1] # number of features\n",
        "        self.n_nodes1   = 400\n",
        "        self.n_nodes2   = 200\n",
        "        self.n_output   = y.shape[1] # number of output classes (number of nodes in the 3rd layer)\n",
        "\n",
        "        self.train_loss = []\n",
        "        self.val_loss = []\n",
        "\n",
        "        # Initialize\n",
        "        optimizer = AdaGrad(self.lr)\n",
        "        self.FC1 = FC(self.n_features, self.n_nodes1, SimpleInitializer(self.sigma), optimizer)\n",
        "        self.activation1 = ReLu()\n",
        "        self.FC2 = FC(self.n_nodes1, self.n_nodes2, SimpleInitializer(self.sigma), optimizer)\n",
        "        self.activation2 = ReLu()\n",
        "        self.FC3 = FC(self.n_nodes2, self.n_output, SimpleInitializer(self.sigma), optimizer)\n",
        "        self.activation3 = Softmax()\n",
        "\n",
        "        for i in range(self.epoch):\n",
        "            get_mini_batch = GetMiniBatch(X, y, batch_size=self.batch_size)\n",
        "            for index, (X_batch, y_batch) in enumerate(get_mini_batch):\n",
        "                # Forward\n",
        "                Z3 = self._feed_forward(X_batch)\n",
        "\n",
        "                # Backprop\n",
        "                self._backpropagation(Z3, y_batch)\n",
        "\n",
        "            self.train_loss.append(self._loss_function(self.predict_proba(X), y))\n",
        "            if X_val is not None and y_val is not None:\n",
        "                self.val_loss.append(self._loss_function(self.predict_proba(X_val), y_val))\n",
        "\n",
        "            if self.verbose:\n",
        "                print(f'epoch: {i}, loss: {self.train_loss[-1]}')"
      ],
      "execution_count": 32,
      "outputs": []
    },
    {
      "cell_type": "code",
      "metadata": {
        "colab": {
          "base_uri": "https://localhost:8080/"
        },
        "id": "cfecTs0X6RG1",
        "outputId": "f0c42327-e41d-4c6a-bc32-3a32e688bc7b"
      },
      "source": [
        "scratch_model_4 = Model4()\n",
        "scratch_model_4.fit(X_train, y_train_one_hot, X_val, y_val_one_hot)"
      ],
      "execution_count": 33,
      "outputs": [
        {
          "output_type": "stream",
          "text": [
            "epoch: 0, loss: 0.08010771493611227\n",
            "epoch: 1, loss: 0.043002561903171685\n",
            "epoch: 2, loss: 0.034281276711159665\n",
            "epoch: 3, loss: 0.02912809957450224\n",
            "epoch: 4, loss: 0.025008908682984148\n",
            "epoch: 5, loss: 0.021541167032771594\n",
            "epoch: 6, loss: 0.018687408366915258\n",
            "epoch: 7, loss: 0.01634013483353358\n",
            "epoch: 8, loss: 0.014406595793425913\n",
            "epoch: 9, loss: 0.012819488836848457\n",
            "epoch: 10, loss: 0.011502715168985572\n",
            "epoch: 11, loss: 0.010362671794986539\n",
            "epoch: 12, loss: 0.009392026806531539\n",
            "epoch: 13, loss: 0.008558102876788815\n",
            "epoch: 14, loss: 0.007836891334179091\n",
            "epoch: 15, loss: 0.007205431766857207\n",
            "epoch: 16, loss: 0.00664013354360524\n",
            "epoch: 17, loss: 0.00612729711019954\n",
            "epoch: 18, loss: 0.005646967857585243\n",
            "epoch: 19, loss: 0.005220060416501482\n"
          ],
          "name": "stdout"
        }
      ]
    },
    {
      "cell_type": "code",
      "metadata": {
        "id": "P5aFNoLW6VFP"
      },
      "source": [
        "y_pred = scratch_model_4.predict(X_val)"
      ],
      "execution_count": 34,
      "outputs": []
    },
    {
      "cell_type": "code",
      "metadata": {
        "colab": {
          "base_uri": "https://localhost:8080/"
        },
        "id": "9TIjQJzj8I3C",
        "outputId": "a4a426a1-6a25-4a95-bbb5-01f57a6cdae2"
      },
      "source": [
        "accuracy_score(y_pred, y_val)"
      ],
      "execution_count": 35,
      "outputs": [
        {
          "output_type": "execute_result",
          "data": {
            "text/plain": [
              "0.97025"
            ]
          },
          "metadata": {
            "tags": []
          },
          "execution_count": 35
        }
      ]
    },
    {
      "cell_type": "code",
      "metadata": {
        "colab": {
          "base_uri": "https://localhost:8080/",
          "height": 497
        },
        "id": "thd46K5xq3uV",
        "outputId": "dcbd5a1a-b965-42ce-ce2d-34982da7ca7f"
      },
      "source": [
        "plot_learning_curve(scratch_model_4.train_loss, scratch_model_4.val_loss)"
      ],
      "execution_count": 36,
      "outputs": [
        {
          "output_type": "display_data",
          "data": {
            "image/png": "[encoded data removed]",
            "text/plain": [
              "<Figure size 1152x576 with 1 Axes>"
            ]
          },
          "metadata": {
            "tags": [],
            "needs_background": "light"
          }
        }
      ]
    }
  ]
}