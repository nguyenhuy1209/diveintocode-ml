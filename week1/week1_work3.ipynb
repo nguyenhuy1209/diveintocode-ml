{
  "nbformat": 4,
  "nbformat_minor": 0,
  "metadata": {
    "colab": {
      "name": "week1-work3.ipynb",
      "provenance": []
    },
    "kernelspec": {
      "name": "python3",
      "display_name": "Python 3"
    }
  },
  "cells": [
    {
      "cell_type": "markdown",
      "metadata": {
        "id": "Dnef8ALgXQm3"
      },
      "source": [
        "$ t_{n} > 3776 $ <br>\r\n",
        "$ \\Rightarrow 2^{n} \\times t_{0}> 3776 $ <br>\r\n",
        "$ \\Rightarrow 2^{n} > \\frac{3776}{t_{0}} $ <br>\r\n",
        "$ \\Rightarrow n > \\log_{2}(\\frac{3776}{t_{0}})$"
      ]
    },
    {
      "cell_type": "code",
      "metadata": {
        "id": "Cxzu7ihPCofR",
        "colab": {
          "base_uri": "https://localhost:8080/"
        },
        "outputId": "94fa0c22-b7b1-46e0-e620-0749392d98fb"
      },
      "source": [
        "\"\"\"\r\n",
        "Problem 1\r\n",
        "Minimum number of folds over Mt. Fuji\r\n",
        "\"\"\"\r\n",
        "\r\n",
        "import numpy as np\r\n",
        "\r\n",
        "THICKNESS = 0.00008 # in meter\r\n",
        "HEIGHT_OF_FUJI = 3776\r\n",
        "\r\n",
        "minimum_of_fold = np.ceil(np.log2(HEIGHT_OF_FUJI/THICKNESS))\r\n",
        "print(f'Number of fold to exceed Mt. Fuji: {minimum_of_fold} folds')"
      ],
      "execution_count": 36,
      "outputs": [
        {
          "output_type": "stream",
          "text": [
            "Number of fold to exceed Mt. Fuji: 26.0 folds\n"
          ],
          "name": "stdout"
        }
      ]
    },
    {
      "cell_type": "markdown",
      "metadata": {
        "id": "q50CpH_-SZo2"
      },
      "source": [
        "**Proxima Centauri**\r\n",
        "\r\n",
        "The closest non-Sun star is the Proxima Centauri star, about *40,208,000,000,000 km* away from us.\r\n",
        "\r\n",
        "[Source: NASA](https://imagine.gsfc.nasa.gov/features/cosmic/nearest_star_info.html)"
      ]
    },
    {
      "cell_type": "code",
      "metadata": {
        "colab": {
          "base_uri": "https://localhost:8080/"
        },
        "id": "M3jpTvxbRY51",
        "outputId": "c1fdccf8-0aeb-4784-9d2b-acba5e62cca1"
      },
      "source": [
        "\"\"\"\r\n",
        "Problem 2\r\n",
        "Creating a function corresponding to an arbitrary thickness\r\n",
        "\"\"\"\r\n",
        "\r\n",
        "DISTANCE_TO_PROXIMA = 40208.0 * 10**12\r\n",
        "\r\n",
        "def number_of_diffraction(thickness, distance):\r\n",
        "  return int(np.ceil(np.log2(distance/thickness)))\r\n",
        "\r\n",
        "num_of_fold_to_reach_Proxima_Centauri = number_of_diffraction(THICKNESS , DISTANCE_TO_PROXIMA)\r\n",
        "print(f'Number of fold to reach Proxima Centauri: {num_of_fold_to_reach_Proxima_Centauri} folds')"
      ],
      "execution_count": 38,
      "outputs": [
        {
          "output_type": "stream",
          "text": [
            "Number of fold to reach Proxima Centauri: 69 folds\n"
          ],
          "name": "stdout"
        }
      ]
    },
    {
      "cell_type": "markdown",
      "metadata": {
        "id": "0eaY8HSewTzw"
      },
      "source": [
        "**Distance to the moon** <br>\r\n",
        "384,400 km = 384,400,000 m\r\n",
        "\r\n",
        "**Height of Mt. Fuji** <br>\r\n",
        "3,776 m\r\n",
        "\r\n",
        "**Distance to Proxima Centauri** <br>\r\n",
        "40,208,000,000,000 km = 40,208 * 10<sup>12</sup> m"
      ]
    },
    {
      "cell_type": "code",
      "metadata": {
        "id": "L_YlSLFdcIxi",
        "colab": {
          "base_uri": "https://localhost:8080/"
        },
        "outputId": "afbed188-d61b-4111-c000-fbe0c87a6cb0"
      },
      "source": [
        "\"\"\"\r\n",
        "Problem 3\r\n",
        "Required paper length\r\n",
        "\"\"\"\r\n",
        "\r\n",
        "def required_paper_length(thickness, n):\r\n",
        "  return (np.pi * thickness)/6 * (2**n + 4) * (2**n - 1)\r\n",
        "\r\n",
        "DISTANCE_TO_MOON = 384400000\r\n",
        "\r\n",
        "num_of_fold_to_reach_the_moon = number_of_diffraction(THICKNESS, DISTANCE_TO_MOON)\r\n",
        "num_of_fold_to_fuji = number_of_diffraction(THICKNESS, HEIGHT_OF_FUJI)\r\n",
        "num_of_fold_to_reach_proxima = number_of_diffraction(THICKNESS, DISTANCE_TO_PROXIMA)\r\n",
        "\r\n",
        "required_length_to_the_moon = required_paper_length(THICKNESS, num_of_fold_to_reach_the_moon)\r\n",
        "required_length_to_mt_fuji = required_paper_length(THICKNESS, num_of_fold_to_fuji)\r\n",
        "required_length_to_proxima_centauri = required_paper_length(THICKNESS, num_of_fold_to_reach_proxima)\r\n",
        "\r\n",
        "print(f'Length of paper needed to reach the Moon: {required_length_to_the_moon} meters')\r\n",
        "print(f'Length of paper needed to exceed Mt. Fuji: {required_length_to_mt_fuji} meters')\r\n",
        "print(f'Length of paper needed to reach Proxima Centauri: {required_length_to_proxima_centauri} meters')"
      ],
      "execution_count": 39,
      "outputs": [
        {
          "output_type": "stream",
          "text": [
            "Length of paper needed to reach the Moon: 3.240919444170781e+21 meters\n",
            "Length of paper needed to exceed Mt. Fuji: 188646348487.24017 meters\n",
            "Length of paper needed to reach Proxima Centauri: 1.4595803601100348e+37 meters\n"
          ],
          "name": "stdout"
        }
      ]
    }
  ]
}