{
  "nbformat": 4,
  "nbformat_minor": 0,
  "metadata": {
    "colab": {
      "name": "week1-work4.ipynb",
      "provenance": []
    },
    "kernelspec": {
      "name": "python3",
      "display_name": "Python 3"
    }
  },
  "cells": [
    {
      "cell_type": "code",
      "metadata": {
        "id": "-LvKJcZmcqm8",
        "colab": {
          "base_uri": "https://localhost:8080/",
          "height": 312
        },
        "outputId": "29e998d3-599e-4e44-d1d1-2438f0018d6b"
      },
      "source": [
        "\"\"\"\r\n",
        "Problem:\r\n",
        "The day when chestnut buns cover the solar system\r\n",
        "\"\"\"\r\n",
        "\r\n",
        "import numpy as np\r\n",
        "\r\n",
        "TIME = 5 # minute\r\n",
        "VOLUME_CHESTNUT = 0.000131097 # in cubic meter\r\n",
        "VOLUME_SOLAR_SYSTEM = 1.409*10**21 # in \r\n",
        "\r\n",
        "def time_for_chestnut_bun_to_fill_other_things(v_object, v_small_object, time):\r\n",
        "  number_of_sprinkle = int((np.ceil(np.log2(v_object/v_small_object))))\r\n",
        "  time_needed = time*number_of_sprinkle\r\n",
        "\r\n",
        "  return int(time_needed)\r\n",
        "\r\n",
        "time_for_solar = time_for_chestnut_bun_to_fill_other_things(VOLUME_SOLAR_SYSTEM, VOLUME_CHESTNUT, TIME)\r\n",
        "print(f'Time for chestnut bun to fill the solar system: {time_for_solar} times')\r\n",
        "\r\n",
        "\r\n",
        "### Graph\r\n",
        "steps = range(0,time_for_solar+1,5)\r\n",
        "\r\n",
        "l = [0.000131097]\r\n",
        "for i in range(int(time_for_solar/5)):\r\n",
        "  l.append(l[-1] * 2)\r\n",
        "\r\n",
        "import matplotlib.pyplot as plt\r\n",
        "%matplotlib inline\r\n",
        "plt.title(\"thickness of folded paper\")\r\n",
        "plt.xlabel(\"Time in minutes\")\r\n",
        "plt.ylabel(\"Volume of chestbun nut\")\r\n",
        "plt.plot(steps,l)\r\n",
        "plt.show()"
      ],
      "execution_count": 23,
      "outputs": [
        {
          "output_type": "stream",
          "text": [
            "Time for chestnut bun to fill the solar system: 420 times\n"
          ],
          "name": "stdout"
        },
        {
          "output_type": "display_data",
          "data": {
            "image/png": "[encoded data removed]",
            "text/plain": [
              "<Figure size 432x288 with 1 Axes>"
            ]
          },
          "metadata": {
            "tags": [],
            "needs_background": "light"
          }
        }
      ]
    }
  ]
}